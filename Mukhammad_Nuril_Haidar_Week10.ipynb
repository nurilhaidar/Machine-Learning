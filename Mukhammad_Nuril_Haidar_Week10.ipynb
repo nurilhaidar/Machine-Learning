{
  "nbformat": 4,
  "nbformat_minor": 0,
  "metadata": {
    "colab": {
      "provenance": [],
      "include_colab_link": true
    },
    "kernelspec": {
      "name": "python3",
      "display_name": "Python 3"
    },
    "language_info": {
      "name": "python"
    }
  },
  "cells": [
    {
      "cell_type": "markdown",
      "metadata": {
        "id": "view-in-github",
        "colab_type": "text"
      },
      "source": [
        "<a href=\"https://colab.research.google.com/github/nurilhaidar/Machine-Learning/blob/main/Mukhammad_Nuril_Haidar_Week10.ipynb\" target=\"_parent\"><img src=\"https://colab.research.google.com/assets/colab-badge.svg\" alt=\"Open In Colab\"/></a>"
      ]
    },
    {
      "cell_type": "markdown",
      "source": [
        "**<h4>Praktikum 1 RNN untuk Analisis Sentimen<h4>**\n",
        "\n",
        "**Setup**\n",
        "\n",
        "Impor matplotlib dan buat fungsi pembantu untuk memplot grafik:"
      ],
      "metadata": {
        "id": "ftAcIUV1AXka"
      }
    },
    {
      "cell_type": "code",
      "execution_count": null,
      "metadata": {
        "id": "wfAYUzHq_P9h"
      },
      "outputs": [],
      "source": [
        "import numpy as np\n",
        "import tensorflow_datasets as tfds\n",
        "import tensorflow as tf\n",
        "\n",
        "tfds.disable_progress_bar()"
      ]
    },
    {
      "cell_type": "code",
      "source": [
        "import matplotlib.pyplot as plt\n",
        "\n",
        "def plot_graphs(history, metric):\n",
        "    plt.plot(history.history[metric])\n",
        "    plt.plot(history.history['val_'+metric], '')\n",
        "    plt.xlabel(\"Epochs\")\n",
        "    plt.ylabel(metric)\n",
        "    plt.legend([metric, 'val_'+metric])"
      ],
      "metadata": {
        "id": "ab4RIvjWApZR"
      },
      "execution_count": null,
      "outputs": []
    },
    {
      "cell_type": "markdown",
      "source": [
        "**Setup input pipeline**\n",
        "\n",
        "Dataset ulasan film IMDB adalah kumpulan data klasifikasi biner—semua ulasan memiliki sentimen positif atau negatif.\n",
        "Download dataset menggunakan TFDS. Lihat loading text tutorial jika ingin me load data secara manual"
      ],
      "metadata": {
        "id": "WCwpB8jVAyAN"
      }
    },
    {
      "cell_type": "code",
      "source": [
        "dataset, info = tfds.load('imdb_reviews', with_info=True,\n",
        "                          as_supervised=True)\n",
        "train_dataset, test_dataset = dataset['train'], dataset['test']\n",
        "\n",
        "train_dataset.element_spec"
      ],
      "metadata": {
        "colab": {
          "base_uri": "https://localhost:8080/"
        },
        "id": "LIuBvjN_A7Cb",
        "outputId": "a2b75d84-d953-4dde-a872-660583936018"
      },
      "execution_count": null,
      "outputs": [
        {
          "output_type": "stream",
          "name": "stdout",
          "text": [
            "Downloading and preparing dataset 80.23 MiB (download: 80.23 MiB, generated: Unknown size, total: 80.23 MiB) to /root/tensorflow_datasets/imdb_reviews/plain_text/1.0.0...\n",
            "Dataset imdb_reviews downloaded and prepared to /root/tensorflow_datasets/imdb_reviews/plain_text/1.0.0. Subsequent calls will reuse this data.\n"
          ]
        },
        {
          "output_type": "execute_result",
          "data": {
            "text/plain": [
              "(TensorSpec(shape=(), dtype=tf.string, name=None),\n",
              " TensorSpec(shape=(), dtype=tf.int64, name=None))"
            ]
          },
          "metadata": {},
          "execution_count": 4
        }
      ]
    },
    {
      "cell_type": "markdown",
      "source": [
        "Awalnya ini mengembalikan dataset (teks, pasangan label):"
      ],
      "metadata": {
        "id": "b3G_T8OCBAaK"
      }
    },
    {
      "cell_type": "code",
      "source": [
        "for example, label in train_dataset.take(1):\n",
        "  print('text: ', example.numpy())\n",
        "  print('label: ', label.numpy())"
      ],
      "metadata": {
        "colab": {
          "base_uri": "https://localhost:8080/"
        },
        "id": "KgVACeC6BBHT",
        "outputId": "3145e881-6d7e-4750-f9a3-ced0a3285145"
      },
      "execution_count": null,
      "outputs": [
        {
          "output_type": "stream",
          "name": "stdout",
          "text": [
            "text:  b\"This was an absolutely terrible movie. Don't be lured in by Christopher Walken or Michael Ironside. Both are great actors, but this must simply be their worst role in history. Even their great acting could not redeem this movie's ridiculous storyline. This movie is an early nineties US propaganda piece. The most pathetic scenes were those when the Columbian rebels were making their cases for revolutions. Maria Conchita Alonso appeared phony, and her pseudo-love affair with Walken was nothing but a pathetic emotional plug in a movie that was devoid of any real meaning. I am disappointed that there are movies like this, ruining actor's like Christopher Walken's good name. I could barely sit through it.\"\n",
            "label:  0\n"
          ]
        }
      ]
    },
    {
      "cell_type": "markdown",
      "source": [
        "Berikutnya acak data untuk pelatihan dan membuat kumpulan pasangan (teks, label) ini:"
      ],
      "metadata": {
        "id": "x7vmlNVaBNUm"
      }
    },
    {
      "cell_type": "code",
      "source": [
        "BUFFER_SIZE = 10000\n",
        "BATCH_SIZE = 64\n",
        "\n",
        "train_dataset = train_dataset.shuffle(BUFFER_SIZE).batch(BATCH_SIZE).prefetch(tf.data.AUTOTUNE)\n",
        "test_dataset = test_dataset.batch(BATCH_SIZE).prefetch(tf.data.AUTOTUNE)\n",
        "\n",
        "for example, label in train_dataset.take(1):\n",
        "  print('texts: ', example.numpy()[:3])\n",
        "  print()\n",
        "  print('labels: ', label.numpy()[:3])"
      ],
      "metadata": {
        "colab": {
          "base_uri": "https://localhost:8080/"
        },
        "id": "CIzgJpb3BOAU",
        "outputId": "fe59b490-a5d3-4cf2-bbef-0ca37011651b"
      },
      "execution_count": null,
      "outputs": [
        {
          "output_type": "stream",
          "name": "stdout",
          "text": [
            "texts:  [b'This PM Entertainment production is laced with enough bullets to make John Woo say, \"Enough already!\" Of course, it isn\\'t nearly as beautiful as Woo can deliver but it gets the exploitive job done in 90 minutes. Eric Phillips (Don Wilson) is an undercover cop in the near future. When his wife is framed for murdering the Governor by a team using a look-a-like cyborg, it is up to Eric to clear her name. Wilson gets to pull Van Damme duty as he plays the heroic lead and his evil cyborg doppelganger. Why the Academy failed to take notice is beyond me. Being a PM production, there are tons of car chases, exploding cars (4 in the first 5 minutes!) and shoot outs. I particularly liked the van that flips in midair before it even comes close to touching an exploding truck. My other favorite bit involved a neighborhood girl coming over to perfect her karate in Don\\'s simulator. It is merely a chance to show off some cheapo LAWNMOWER MAN effects circa 1995.'\n",
            " b'I like monster movies, generally. Even if they are implausible and silly. But its hard to like this movie when its so implausible and silly AND tries to take itself seriously all at the same time. Like in a really posh kind of way.<br /><br />While the idea is somewhat factual, like Orcas are known for killing Great White Sharks, its really hard to find it scary when I can\\'t help but just see an angry Shamoo destroying stuff. Especially that one scene where some building exploded cause of the Orca\\'s doing...and while it explodes, the thing jumps out of the water and it felt like I was watching a show at Sea World with fireworks. Plus they kill a lot of the scary moments before they even hint that they\\'re going to happen. On top of that, it takes a few jabs at JAWS. Its like \"hey look, we\\'re being factual and we can come up with BETTER reasons why the Orca is attacking\".<br /><br />Yes you are, ignoring your outrageous **** ups in logic of course. But JAWS had one thing your movie doesn\\'t. Its scary. Yes its implausible. Yes its somewhat outrageous. But quite frankly, factual or not, a Killer Shark is not close to being as scary as a Great White. And the poor attempt at character development and writing just hurts it more. Even JAWS the Revenge is scarier than this.'\n",
            " b'The events of the 11th of September 2001 cast its shadow on this Oscar award ceremony with a one minute silence before the in memoriam montage and there was little in the way of the all singing all dancing comedy extravaganza that we`d come to expect of this award show but this was by no means a bad thing . Entertainment was more or less curtailed to a LOTR send up with Ben Stiller and Owen Wilson and that was it . The rest of the show was taken up with clips from the nominations and I have to admit this was actually more enjoyable than the overblown song and dance numbers we`ve seen over the years and Whoopi Goldberg was by no means a bad presenter unlike the very esoteric David Letterman from a few years ago and the one minute silence for the victims of 9/11 was haunting and dignified <br /><br />As for the awards New Zealand was absolutely robbed . FELLOWSHIP OF THE RING went home with four minor awards while A BEAUTIFUL MIND undeservingly picked up most of the major prizes except for best actor which should have gone to a tough guy New Zealander but went to an An all American nice guy instead . The only Oscar awards I agreed with apart from the ones presented to FELLOWSHIP were the awards for best supporting actress and best supporting actor , both correct calls .']\n",
            "\n",
            "labels:  [1 0 1]\n"
          ]
        }
      ]
    },
    {
      "cell_type": "markdown",
      "source": [
        "**Buat Teks Encoder**\n",
        "\n",
        "Teks mentah yang dimuat oleh tfds perlu diproses sebelum dapat digunakan dalam model. Cara termudah memproses teks untuk pelatihan adalah menggunakan lapisan TextVectorization. Lapisan ini memiliki banyak kemampuan, namun pada tutorial ini menggunakan perilaku default. Buat lapisan tersebut, dan teruskan teks kumpulan data ke metode .adapt lapisan:"
      ],
      "metadata": {
        "id": "wPFKMKIBBR3q"
      }
    },
    {
      "cell_type": "code",
      "source": [
        "VOCAB_SIZE = 1000\n",
        "encoder = tf.keras.layers.TextVectorization(\n",
        "    max_tokens=VOCAB_SIZE)\n",
        "encoder.adapt(train_dataset.map(lambda text, label: text))"
      ],
      "metadata": {
        "id": "ZxfXF0UaBXGz"
      },
      "execution_count": null,
      "outputs": []
    },
    {
      "cell_type": "markdown",
      "source": [
        "Metode .adapt mengatur kosakata lapisan. 20 token pertama dapat dilihat dengan kode berikut. Setelah padding dan token yang tidak diketahui, mereka diurutkan berdasarkan frekuensi:"
      ],
      "metadata": {
        "id": "qnbQaC4RBY6Q"
      }
    },
    {
      "cell_type": "code",
      "source": [
        "vocab = np.array(encoder.get_vocabulary())\n",
        "vocab[:20]"
      ],
      "metadata": {
        "colab": {
          "base_uri": "https://localhost:8080/"
        },
        "id": "PQxqhmiLBb9f",
        "outputId": "0f9b52a6-c98f-40eb-c5b3-522503262944"
      },
      "execution_count": null,
      "outputs": [
        {
          "output_type": "execute_result",
          "data": {
            "text/plain": [
              "array(['', '[UNK]', 'the', 'and', 'a', 'of', 'to', 'is', 'in', 'it', 'i',\n",
              "       'this', 'that', 'br', 'was', 'as', 'for', 'with', 'movie', 'but'],\n",
              "      dtype='<U14')"
            ]
          },
          "metadata": {},
          "execution_count": 9
        }
      ]
    },
    {
      "cell_type": "markdown",
      "source": [
        "Setelah kosakata diatur, lapisan dapat mengkodekan teks ke dalam indeks. Tensor indeks diberi bantalan 0 ke urutan terpanjang dalam batch (kecuali jika Anda menetapkan output_sequence_length tetap):"
      ],
      "metadata": {
        "id": "b2Q1NBrvBeva"
      }
    },
    {
      "cell_type": "code",
      "source": [
        "encoded_example = encoder(example)[:3].numpy()\n",
        "encoded_example"
      ],
      "metadata": {
        "colab": {
          "base_uri": "https://localhost:8080/"
        },
        "id": "9iI6LcXUBjnJ",
        "outputId": "c09c3b04-0c72-44c5-f378-c7aa2aa631aa"
      },
      "execution_count": null,
      "outputs": [
        {
          "output_type": "execute_result",
          "data": {
            "text/plain": [
              "array([[ 11,   1, 728, ...,   0,   0,   0],\n",
              "       [ 10,  39, 969, ...,   0,   0,   0],\n",
              "       [  2, 674,   5, ...,   0,   0,   0]])"
            ]
          },
          "metadata": {},
          "execution_count": 11
        }
      ]
    },
    {
      "cell_type": "markdown",
      "source": [
        "Dengan pengaturan default, prosesnya tidak dapat dibalik sepenuhnya. Ada dua alasan utama untuk itu:\n",
        "- Nilai default untuk argumen standarisasi preprocessing.TextVectorization adalah \"lower_and_strip_punctuation\".\n",
        "- Ukuran kosa kata yang terbatas dan kurangnya fallback berbasis karakter menghasilkan beberapa token yang tidak diketahui."
      ],
      "metadata": {
        "id": "ifMyWBviBnZk"
      }
    },
    {
      "cell_type": "code",
      "source": [
        "for n in range(3):\n",
        "  print(\"Original: \", example[n].numpy())\n",
        "  print(\"Round-trip: \", \" \".join(vocab[encoded_example[n]]))\n",
        "  print()"
      ],
      "metadata": {
        "colab": {
          "base_uri": "https://localhost:8080/"
        },
        "id": "12KTNrwLBqmY",
        "outputId": "238ca604-9f8f-43f8-f05f-a7c248c71cca"
      },
      "execution_count": null,
      "outputs": [
        {
          "output_type": "stream",
          "name": "stdout",
          "text": [
            "Original:  b'This PM Entertainment production is laced with enough bullets to make John Woo say, \"Enough already!\" Of course, it isn\\'t nearly as beautiful as Woo can deliver but it gets the exploitive job done in 90 minutes. Eric Phillips (Don Wilson) is an undercover cop in the near future. When his wife is framed for murdering the Governor by a team using a look-a-like cyborg, it is up to Eric to clear her name. Wilson gets to pull Van Damme duty as he plays the heroic lead and his evil cyborg doppelganger. Why the Academy failed to take notice is beyond me. Being a PM production, there are tons of car chases, exploding cars (4 in the first 5 minutes!) and shoot outs. I particularly liked the van that flips in midair before it even comes close to touching an exploding truck. My other favorite bit involved a neighborhood girl coming over to perfect her karate in Don\\'s simulator. It is merely a chance to show off some cheapo LAWNMOWER MAN effects circa 1995.'\n",
            "Round-trip:  this [UNK] entertainment production is [UNK] with enough [UNK] to make john [UNK] say enough already of course it isnt nearly as beautiful as [UNK] can [UNK] but it gets the [UNK] job done in [UNK] minutes [UNK] [UNK] [UNK] [UNK] is an [UNK] [UNK] in the near future when his wife is [UNK] for [UNK] the [UNK] by a team using a [UNK] [UNK] it is up to [UNK] to clear her name [UNK] gets to [UNK] [UNK] [UNK] [UNK] as he plays the [UNK] lead and his evil [UNK] [UNK] why the [UNK] [UNK] to take [UNK] is beyond me being a [UNK] production there are [UNK] of car [UNK] [UNK] [UNK] 4 in the first 5 minutes and [UNK] [UNK] i particularly liked the [UNK] that [UNK] in [UNK] before it even comes close to [UNK] an [UNK] [UNK] my other favorite bit involved a [UNK] girl coming over to perfect her [UNK] in [UNK] [UNK] it is [UNK] a chance to show off some [UNK] [UNK] man effects [UNK] [UNK]                                                                                                                                                                                                                                                                                                                                                                                                                                                                                                                                                                                                                                                                                                              \n",
            "\n",
            "Original:  b'I like monster movies, generally. Even if they are implausible and silly. But its hard to like this movie when its so implausible and silly AND tries to take itself seriously all at the same time. Like in a really posh kind of way.<br /><br />While the idea is somewhat factual, like Orcas are known for killing Great White Sharks, its really hard to find it scary when I can\\'t help but just see an angry Shamoo destroying stuff. Especially that one scene where some building exploded cause of the Orca\\'s doing...and while it explodes, the thing jumps out of the water and it felt like I was watching a show at Sea World with fireworks. Plus they kill a lot of the scary moments before they even hint that they\\'re going to happen. On top of that, it takes a few jabs at JAWS. Its like \"hey look, we\\'re being factual and we can come up with BETTER reasons why the Orca is attacking\".<br /><br />Yes you are, ignoring your outrageous **** ups in logic of course. But JAWS had one thing your movie doesn\\'t. Its scary. Yes its implausible. Yes its somewhat outrageous. But quite frankly, factual or not, a Killer Shark is not close to being as scary as a Great White. And the poor attempt at character development and writing just hurts it more. Even JAWS the Revenge is scarier than this.'\n",
            "Round-trip:  i like monster movies [UNK] even if they are [UNK] and silly but its hard to like this movie when its so [UNK] and silly and tries to take itself seriously all at the same time like in a really [UNK] kind of [UNK] br while the idea is somewhat [UNK] like [UNK] are known for killing great white [UNK] its really hard to find it scary when i cant help but just see an [UNK] [UNK] [UNK] stuff especially that one scene where some [UNK] [UNK] [UNK] of the [UNK] [UNK] while it [UNK] the thing [UNK] out of the [UNK] and it felt like i was watching a show at [UNK] world with [UNK] plus they kill a lot of the scary moments before they even [UNK] that theyre going to happen on top of that it takes a few [UNK] at [UNK] its like [UNK] look were being [UNK] and we can come up with better [UNK] why the [UNK] is [UNK] br yes you are [UNK] your [UNK] [UNK] in [UNK] of course but [UNK] had one thing your movie doesnt its scary yes its [UNK] yes its somewhat [UNK] but quite [UNK] [UNK] or not a killer [UNK] is not close to being as scary as a great white and the poor attempt at character development and writing just [UNK] it more even [UNK] the [UNK] is [UNK] than this                                                                                                                                                                                                                                                                                                                                                                                                                                                                                                                                                                                                                                                 \n",
            "\n",
            "Original:  b'The events of the 11th of September 2001 cast its shadow on this Oscar award ceremony with a one minute silence before the in memoriam montage and there was little in the way of the all singing all dancing comedy extravaganza that we`d come to expect of this award show but this was by no means a bad thing . Entertainment was more or less curtailed to a LOTR send up with Ben Stiller and Owen Wilson and that was it . The rest of the show was taken up with clips from the nominations and I have to admit this was actually more enjoyable than the overblown song and dance numbers we`ve seen over the years and Whoopi Goldberg was by no means a bad presenter unlike the very esoteric David Letterman from a few years ago and the one minute silence for the victims of 9/11 was haunting and dignified <br /><br />As for the awards New Zealand was absolutely robbed . FELLOWSHIP OF THE RING went home with four minor awards while A BEAUTIFUL MIND undeservingly picked up most of the major prizes except for best actor which should have gone to a tough guy New Zealander but went to an An all American nice guy instead . The only Oscar awards I agreed with apart from the ones presented to FELLOWSHIP were the awards for best supporting actress and best supporting actor , both correct calls .'\n",
            "Round-trip:  the events of the [UNK] of [UNK] [UNK] cast its [UNK] on this oscar [UNK] [UNK] with a one minute [UNK] before the in [UNK] [UNK] and there was little in the way of the all [UNK] all [UNK] comedy [UNK] that [UNK] come to expect of this [UNK] show but this was by no means a bad thing entertainment was more or less [UNK] to a [UNK] [UNK] up with [UNK] [UNK] and [UNK] [UNK] and that was it the rest of the show was taken up with [UNK] from the [UNK] and i have to admit this was actually more enjoyable than the [UNK] song and dance [UNK] [UNK] seen over the years and [UNK] [UNK] was by no means a bad [UNK] unlike the very [UNK] david [UNK] from a few years ago and the one minute [UNK] for the [UNK] of [UNK] was [UNK] and [UNK] br br as for the [UNK] new [UNK] was absolutely [UNK] [UNK] of the [UNK] went home with four [UNK] [UNK] while a beautiful mind [UNK] [UNK] up most of the major [UNK] except for best actor which should have gone to a [UNK] guy new [UNK] but went to an an all american nice guy instead the only oscar [UNK] i [UNK] with apart from the ones [UNK] to [UNK] were the [UNK] for best supporting actress and best supporting actor both [UNK] [UNK]                                                                                                                                                                                                                                                                                                                                                                                                                                                                                                                                                                                                                                                 \n",
            "\n"
          ]
        }
      ]
    },
    {
      "cell_type": "markdown",
      "source": [
        "**Buat Model**\n",
        "\n",
        "diagram model dapat dilihat pada gambar diatas\n",
        "1. Model ini dapat dibuat sebagai tf.keras.Sequential.\n",
        "2. Lapisan pertama adalah encoder, yang mengubah teks menjadi urutan indeks token.\n",
        "3. Setelah encoder adalah lapisan penyematan (embedding layer). Lapisan penyematan menyimpan satu vektor per kata. Saat dipanggil, ini mengubah rangkaian indeks kata menjadi rangkaian vektor. Vektor-vektor ini dapat dilatih. Setelah pelatihan (dengan data yang cukup), kata-kata dengan arti yang mirip sering kali memiliki vektor yang serupa. Pencarian indeks ini jauh lebih efisien daripada operasi setara dengan meneruskan vektor yang disandikan one-hot melalui lapisan tf.keras.layers.Dense.\n",
        "4. Jaringan saraf berulang (RNN) memproses masukan urutan dengan melakukan iterasi melalui elemen. RNN meneruskan keluaran dari satu langkah waktu ke masukannya pada langkah waktu berikutnya.\n",
        "Pembungkus tf.keras.layers.Bidirection juga dapat digunakan dengan lapisan RNN. Ini menyebarkan masukan maju dan mundur melalui lapisan RNN dan kemudian menggabungkan keluaran akhir.\n",
        "    - Keuntungan utama RNN dua arah adalah sinyal dari awal masukan tidak perlu diproses sepanjang waktu untuk memengaruhi keluaran.\n",
        "    - Kerugian utama dari RNN dua arah adalah Anda tidak dapat melakukan streaming prediksi secara efisien saat kata-kata ditambahkan di akhir.\n",
        "5. Setelah RNN mengonversi urutan menjadi satu vektor, kedua lapisan tersebut.Dense melakukan beberapa pemrosesan akhir, dan mengonversi representasi vektor ini menjadi logit tunggal sebagai keluaran klasifikasi.\n",
        "\n",
        "Kode nya adalah sebagai berikut :"
      ],
      "metadata": {
        "id": "wdVCj66rBvZv"
      }
    },
    {
      "cell_type": "code",
      "source": [
        "model = tf.keras.Sequential([\n",
        "    encoder,\n",
        "    tf.keras.layers.Embedding(\n",
        "        input_dim=len(encoder.get_vocabulary()),\n",
        "        output_dim=64,\n",
        "        # Use masking to handle the variable sequence lengths\n",
        "        mask_zero=True),\n",
        "    tf.keras.layers.Bidirectional(tf.keras.layers.LSTM(64)),\n",
        "    tf.keras.layers.Dense(64, activation='relu'),\n",
        "    tf.keras.layers.Dense(1)\n",
        "])"
      ],
      "metadata": {
        "id": "4BQc2dyCCGg8"
      },
      "execution_count": null,
      "outputs": []
    },
    {
      "cell_type": "markdown",
      "source": [
        "Harap dicatat bahwa model sekuensial Keras digunakan di sini karena semua lapisan dalam model hanya memiliki masukan tunggal dan menghasilkan keluaran tunggal. Jika Anda ingin menggunakan lapisan RNN stateful, Anda mungkin ingin membangun model Anda dengan API fungsional Keras atau subkelas model sehingga Anda dapat mengambil dan menggunakan kembali status lapisan RNN. Untuk detailnya bisa dilihat pada Keras RNN guide\n",
        "\n",
        "Lapisan penyematan menggunakan masking (uses masking ) untuk menangani panjang urutan yang bervariasi. Semua lapisan setelah penyematan dukungan penyematan"
      ],
      "metadata": {
        "id": "TrApdUCMCKvz"
      }
    },
    {
      "cell_type": "code",
      "source": [
        "print([layer.supports_masking for layer in model.layers])"
      ],
      "metadata": {
        "colab": {
          "base_uri": "https://localhost:8080/"
        },
        "id": "P4WEk6uhCNcb",
        "outputId": "563cf048-7f59-4e50-d551-9a273de09f35"
      },
      "execution_count": null,
      "outputs": [
        {
          "output_type": "stream",
          "name": "stdout",
          "text": [
            "[False, True, True, True, True]\n"
          ]
        }
      ]
    },
    {
      "cell_type": "markdown",
      "source": [
        "Untuk memastikan bahwa ini berfungsi seperti yang diharapkan, evaluasi sebuah kalimat dua kali. Pertama, satu kalimat sehingga tidak ada bantalan (padding) untuk disamarkan:"
      ],
      "metadata": {
        "id": "XrZDx25KCRVL"
      }
    },
    {
      "cell_type": "code",
      "source": [
        "# predict on a sample text without padding.\n",
        "\n",
        "sample_text = ('The movie was cool. The animation and the graphics '\n",
        "               'were out of this world. I would recommend this movie.')\n",
        "predictions = model.predict(np.array([sample_text]))\n",
        "print(predictions[0])"
      ],
      "metadata": {
        "colab": {
          "base_uri": "https://localhost:8080/"
        },
        "id": "2dmdhOPeCTKh",
        "outputId": "5a7d1601-1eb5-47d9-c451-3335f5198142"
      },
      "execution_count": null,
      "outputs": [
        {
          "output_type": "stream",
          "name": "stdout",
          "text": [
            "1/1 [==============================] - 3s 3s/step\n",
            "[-0.01255668]\n"
          ]
        }
      ]
    },
    {
      "cell_type": "markdown",
      "source": [
        "Sekarang, evaluasi lagi dalam batch dengan kalimat yang lebih panjang. Hasilnya harus sama:"
      ],
      "metadata": {
        "id": "sxclFWDZCYfF"
      }
    },
    {
      "cell_type": "code",
      "source": [
        "# predict on a sample text with padding\n",
        "\n",
        "padding = \"the \" * 2000\n",
        "predictions = model.predict(np.array([sample_text, padding]))\n",
        "print(predictions[0])"
      ],
      "metadata": {
        "colab": {
          "base_uri": "https://localhost:8080/"
        },
        "id": "7ePHkBaCCaso",
        "outputId": "3f96636a-3930-4171-c896-5a269e20218b"
      },
      "execution_count": null,
      "outputs": [
        {
          "output_type": "stream",
          "name": "stdout",
          "text": [
            "1/1 [==============================] - 1s 787ms/step\n",
            "[-0.01255668]\n"
          ]
        }
      ]
    },
    {
      "cell_type": "markdown",
      "source": [
        "compile model Keras untuk mengonfigurasi proses pelatihan:"
      ],
      "metadata": {
        "id": "8wwyZDlvCc6X"
      }
    },
    {
      "cell_type": "code",
      "source": [
        "model.compile(loss=tf.keras.losses.BinaryCrossentropy(from_logits=True),\n",
        "              optimizer=tf.keras.optimizers.Adam(1e-4),\n",
        "              metrics=['accuracy'])"
      ],
      "metadata": {
        "id": "00SkpQCwCgbo"
      },
      "execution_count": null,
      "outputs": []
    },
    {
      "cell_type": "markdown",
      "source": [
        "### Train Model"
      ],
      "metadata": {
        "id": "dl4na3zaCidy"
      }
    },
    {
      "cell_type": "code",
      "source": [
        "history = model.fit(train_dataset, epochs=10,\n",
        "                    validation_data=test_dataset,\n",
        "                    validation_steps=30)"
      ],
      "metadata": {
        "colab": {
          "base_uri": "https://localhost:8080/"
        },
        "id": "0OCNF5PECl24",
        "outputId": "369264b5-005d-4721-d262-45807bfd13ef"
      },
      "execution_count": null,
      "outputs": [
        {
          "output_type": "stream",
          "name": "stdout",
          "text": [
            "Epoch 1/10\n",
            "391/391 [==============================] - 610s 2s/step - loss: 0.6487 - accuracy: 0.5814 - val_loss: 0.6117 - val_accuracy: 0.7505\n",
            "Epoch 2/10\n",
            "391/391 [==============================] - 570s 1s/step - loss: 0.4496 - accuracy: 0.7862 - val_loss: 0.3812 - val_accuracy: 0.8260\n",
            "Epoch 3/10\n",
            "391/391 [==============================] - 609s 2s/step - loss: 0.3545 - accuracy: 0.8433 - val_loss: 0.3569 - val_accuracy: 0.8307\n",
            "Epoch 4/10\n",
            "391/391 [==============================] - 561s 1s/step - loss: 0.3285 - accuracy: 0.8565 - val_loss: 0.3334 - val_accuracy: 0.8557\n",
            "Epoch 5/10\n",
            "391/391 [==============================] - 562s 1s/step - loss: 0.3150 - accuracy: 0.8649 - val_loss: 0.3301 - val_accuracy: 0.8505\n",
            "Epoch 6/10\n",
            "391/391 [==============================] - 563s 1s/step - loss: 0.3111 - accuracy: 0.8677 - val_loss: 0.3264 - val_accuracy: 0.8599\n",
            "Epoch 7/10\n",
            "391/391 [==============================] - 558s 1s/step - loss: 0.3076 - accuracy: 0.8668 - val_loss: 0.3199 - val_accuracy: 0.8573\n",
            "Epoch 8/10\n",
            "391/391 [==============================] - 565s 1s/step - loss: 0.3064 - accuracy: 0.8675 - val_loss: 0.3337 - val_accuracy: 0.8438\n",
            "Epoch 9/10\n",
            "391/391 [==============================] - 565s 1s/step - loss: 0.3040 - accuracy: 0.8692 - val_loss: 0.3185 - val_accuracy: 0.8589\n",
            "Epoch 10/10\n",
            "391/391 [==============================] - 559s 1s/step - loss: 0.3005 - accuracy: 0.8716 - val_loss: 0.3236 - val_accuracy: 0.8609\n"
          ]
        }
      ]
    },
    {
      "cell_type": "code",
      "source": [
        "test_loss, test_acc = model.evaluate(test_dataset)\n",
        "\n",
        "print('Test Loss:', test_loss)\n",
        "print('Test Accuracy:', test_acc)"
      ],
      "metadata": {
        "colab": {
          "base_uri": "https://localhost:8080/"
        },
        "id": "3K_8qKt8CwIw",
        "outputId": "68be85a5-7276-44e8-84bb-0205dd198bc4"
      },
      "execution_count": null,
      "outputs": [
        {
          "output_type": "stream",
          "name": "stdout",
          "text": [
            "391/391 [==============================] - 155s 396ms/step - loss: 0.3197 - accuracy: 0.8642\n",
            "Test Loss: 0.31971266865730286\n",
            "Test Accuracy: 0.8642399907112122\n"
          ]
        }
      ]
    },
    {
      "cell_type": "code",
      "source": [
        "plt.figure(figsize=(16, 8))\n",
        "plt.subplot(1, 2, 1)\n",
        "plot_graphs(history, 'accuracy')\n",
        "plt.ylim(None, 1)\n",
        "plt.subplot(1, 2, 2)\n",
        "plot_graphs(history, 'loss')\n",
        "plt.ylim(0, None)"
      ],
      "metadata": {
        "colab": {
          "base_uri": "https://localhost:8080/",
          "height": 718
        },
        "id": "mTHNgU1fCyeW",
        "outputId": "653ed5ec-70d4-46cd-9e9a-ac95109cd883"
      },
      "execution_count": null,
      "outputs": [
        {
          "output_type": "execute_result",
          "data": {
            "text/plain": [
              "(0.0, 0.6661454707384109)"
            ]
          },
          "metadata": {},
          "execution_count": 22
        },
        {
          "output_type": "display_data",
          "data": {
            "text/plain": [
              "<Figure size 1600x800 with 2 Axes>"
            ],
            "image/png": "[encoded data removed]"
          },
          "metadata": {}
        }
      ]
    },
    {
      "cell_type": "markdown",
      "source": [
        "Jalankan prediksi pada kalimat baru:\n",
        "\n",
        "Jika prediksi >= 0,0 berarti positif, jika tidak maka negatif."
      ],
      "metadata": {
        "id": "DMUStA-DHU2s"
      }
    },
    {
      "cell_type": "code",
      "source": [
        "sample_text = ('The movie was cool. The animation and the graphics '\n",
        "                'were out of this world. I would recommend this movie.')\n",
        "predictions = model.predict(np.array([sample_text]))"
      ],
      "metadata": {
        "colab": {
          "base_uri": "https://localhost:8080/"
        },
        "id": "AXZovRBFHWG6",
        "outputId": "65a03168-7a45-4892-84ca-1317bfdc2090"
      },
      "execution_count": null,
      "outputs": [
        {
          "output_type": "stream",
          "name": "stdout",
          "text": [
            "1/1 [==============================] - 3s 3s/step\n"
          ]
        }
      ]
    },
    {
      "cell_type": "markdown",
      "source": [
        "### **Stack two or more LSTM layers**\n",
        "\n",
        "Lapisan berulang Keras memiliki dua mode yang tersedia yang dikontrol oleh argumen konstruktor return_sequences :\n",
        "- Jika False, ia hanya mengembalikan keluaran terakhir untuk setiap urutan masukan (bentuk tensor 2D (batch_size, output_features)). Ini adalah default yang digunakan pada model sebelumnya.\n",
        "- Jika True, Sequence lengkap output berturut-turut untuk setiap langkah waktu dikembalikan (bentuk tensor 3D (ukuran_batch, langkah waktu, fitur_output)).\n",
        "\n",
        "Berikut adalah alur informasi dengan return_sequences=True:"
      ],
      "metadata": {
        "id": "I6GddKyMHcQv"
      }
    },
    {
      "cell_type": "markdown",
      "source": [
        "Hal yang menarik dari penggunaan RNN dengan return_sequences=True adalah outputnya masih memiliki 3 axis, sama seperti inputnya, sehingga bisa diteruskan ke layer RNN lain, seperti ini:"
      ],
      "metadata": {
        "id": "Nm0bc1ViHo8N"
      }
    },
    {
      "cell_type": "code",
      "source": [
        "model = tf.keras.Sequential([\n",
        "    encoder,\n",
        "    tf.keras.layers.Embedding(len(encoder.get_vocabulary()), 64, mask_zero=True),\n",
        "    tf.keras.layers.Bidirectional(tf.keras.layers.LSTM(64, return_sequences=True)),\n",
        "    tf.keras.layers.Bidirectional(tf.keras.layers.LSTM(32)),\n",
        "    tf.keras.layers.Dense(64, activation='relu'),\n",
        "    tf.keras.layers.Dropout(0.5),\n",
        "    tf.keras.layers.Dense(1)\n",
        "])"
      ],
      "metadata": {
        "id": "uIq3JZHNHppC"
      },
      "execution_count": null,
      "outputs": []
    },
    {
      "cell_type": "code",
      "source": [
        "model.compile(loss=tf.keras.losses.BinaryCrossentropy(from_logits=True),\n",
        "            optimizer=tf.keras.optimizers.Adam(1e-4),\n",
        "            metrics=['accuracy'])"
      ],
      "metadata": {
        "id": "hVkfNh10HzNA"
      },
      "execution_count": null,
      "outputs": []
    },
    {
      "cell_type": "code",
      "source": [
        "history = model.fit(train_dataset, epochs=10,\n",
        "                    validation_data=test_dataset,\n",
        "                    validation_steps=30)"
      ],
      "metadata": {
        "colab": {
          "base_uri": "https://localhost:8080/"
        },
        "id": "w9gYxkxJH6XD",
        "outputId": "f3b3221f-7fa9-45c2-8bd8-402dd3c6325a"
      },
      "execution_count": null,
      "outputs": [
        {
          "output_type": "stream",
          "name": "stdout",
          "text": [
            "Epoch 1/10\n",
            "391/391 [==============================] - 1145s 3s/step - loss: 0.6462 - accuracy: 0.5764 - val_loss: 0.4735 - val_accuracy: 0.7979\n",
            "Epoch 2/10\n",
            "391/391 [==============================] - 1088s 3s/step - loss: 0.4284 - accuracy: 0.8202 - val_loss: 0.3725 - val_accuracy: 0.8432\n",
            "Epoch 3/10\n",
            "391/391 [==============================] - 1085s 3s/step - loss: 0.3601 - accuracy: 0.8484 - val_loss: 0.3510 - val_accuracy: 0.8526\n",
            "Epoch 4/10\n",
            "391/391 [==============================] - 1087s 3s/step - loss: 0.3304 - accuracy: 0.8596 - val_loss: 0.3346 - val_accuracy: 0.8443\n",
            "Epoch 5/10\n",
            "391/391 [==============================] - 1094s 3s/step - loss: 0.3161 - accuracy: 0.8651 - val_loss: 0.3365 - val_accuracy: 0.8401\n",
            "Epoch 6/10\n",
            "391/391 [==============================] - 1098s 3s/step - loss: 0.3107 - accuracy: 0.8671 - val_loss: 0.3267 - val_accuracy: 0.8583\n",
            "Epoch 7/10\n",
            "391/391 [==============================] - 1099s 3s/step - loss: 0.3041 - accuracy: 0.8707 - val_loss: 0.3202 - val_accuracy: 0.8604\n",
            "Epoch 8/10\n",
            "391/391 [==============================] - 1088s 3s/step - loss: 0.3031 - accuracy: 0.8721 - val_loss: 0.3215 - val_accuracy: 0.8625\n",
            "Epoch 9/10\n",
            "391/391 [==============================] - 1087s 3s/step - loss: 0.3015 - accuracy: 0.8712 - val_loss: 0.3195 - val_accuracy: 0.8656\n",
            "Epoch 10/10\n",
            "391/391 [==============================] - 1075s 3s/step - loss: 0.2963 - accuracy: 0.8751 - val_loss: 0.3196 - val_accuracy: 0.8599\n"
          ]
        }
      ]
    },
    {
      "cell_type": "code",
      "source": [
        "test_loss, test_acc = model.evaluate(test_dataset)\n",
        "\n",
        "print('Test Loss:', test_loss)\n",
        "print('Test Accuracy:', test_acc)"
      ],
      "metadata": {
        "colab": {
          "base_uri": "https://localhost:8080/"
        },
        "id": "YUicLJfiH-rW",
        "outputId": "e64d6a67-9db5-440c-d9e7-55e4d187bf94"
      },
      "execution_count": null,
      "outputs": [
        {
          "output_type": "stream",
          "name": "stdout",
          "text": [
            "391/391 [==============================] - 247s 632ms/step - loss: 0.3162 - accuracy: 0.8604\n",
            "Test Loss: 0.3161561191082001\n",
            "Test Accuracy: 0.8604400157928467\n"
          ]
        }
      ]
    },
    {
      "cell_type": "code",
      "source": [
        "# predict on a sample text without padding.\n",
        "\n",
        "sample_text = ('The movie was not good. The animation and the graphics '\n",
        "                'were terrible. I would not recommend this movie.')\n",
        "predictions = model.predict(np.array([sample_text]))\n",
        "print(predictions)"
      ],
      "metadata": {
        "colab": {
          "base_uri": "https://localhost:8080/"
        },
        "id": "Y4A0PjurIBMX",
        "outputId": "b9c5c8d4-0318-476d-9030-cf180abe5d53"
      },
      "execution_count": null,
      "outputs": [
        {
          "output_type": "stream",
          "name": "stdout",
          "text": [
            "1/1 [==============================] - 6s 6s/step\n",
            "[[-1.8136067]]\n"
          ]
        }
      ]
    },
    {
      "cell_type": "code",
      "source": [
        "plt.figure(figsize=(16, 6))\n",
        "plt.subplot(1, 2, 1)\n",
        "plot_graphs(history, 'accuracy')\n",
        "plt.subplot(1, 2, 2)\n",
        "plot_graphs(history, 'loss')"
      ],
      "metadata": {
        "colab": {
          "base_uri": "https://localhost:8080/",
          "height": 542
        },
        "id": "jU5L4950IFUG",
        "outputId": "202868bc-421d-456d-a246-5c0276dea9fd"
      },
      "execution_count": null,
      "outputs": [
        {
          "output_type": "display_data",
          "data": {
            "text/plain": [
              "<Figure size 1600x600 with 2 Axes>"
            ],
            "image/png": "[encoded data removed]"
          },
          "metadata": {}
        }
      ]
    },
    {
      "cell_type": "markdown",
      "source": [
        "# **Catatan**\n",
        "\n",
        "Informasi menarik lain terkait dengan GRU layers.\n",
        "\n",
        "Informasi membuat custom RNN --> Keras RNN Guide."
      ],
      "metadata": {
        "id": "a0d_cGKGISWM"
      }
    },
    {
      "cell_type": "markdown",
      "source": [
        "**<h4>Praktikum 2 Generator Teks dengan RNN<h4>**\n",
        "\n",
        "Praktikum ini mendemonstrasikan cara melakukan genearsi text menggunakan RNN. Dataset yang digunkan adalah dataset Shakespeare's writing from Andrej Karpathy's The Unreasonable Effectiveness of Recurrent Neural Networks. Jika diberikan urutan karakter dari data ini (\"Shakespear\"), latih model untuk memprediksi karakter berikutnya dalam urutan (\"e\"). Urutan teks yang lebih panjang dapat dihasilkan dengan memanggil model berulang kali.\n",
        "\n",
        "Note: Enable GPU acceleration to execute this notebook faster. In Colab: Runtime > Change runtime type > Hardware accelerator > GPU.\n",
        "\n",
        "Tutorial ini menggunakan tf.keras dan eager execution. Berikut adalah contoh output ketika model dalam tutorial ini dilatih selama 30 epoch, dan dimulai dengan prompt \"Q\":"
      ],
      "metadata": {
        "id": "z6Jx6XjlIdzJ"
      }
    },
    {
      "cell_type": "markdown",
      "source": [
        "```\n",
        "QUEENE:\n",
        "I had thought thou hadst a Roman; for the oracle,\n",
        "Thus by All bids the man against the word,\n",
        "Which are so weak of care, by old care done;\n",
        "Your children were in your holy love,\n",
        "And the precipitation through the bleeding throne.\n",
        "\n",
        "BISHOP OF ELY:\n",
        "Marry, and will, my lord, to weep in such a one were prettiest;\n",
        "Yet now I was adopted heir\n",
        "Of the world's lamentable day,\n",
        "To watch the next way with his father with his face?\n",
        "\n",
        "ESCALUS:\n",
        "The cause why then we are all resolved more sons.\n",
        "\n",
        "VOLUMNIA:\n",
        "O, no, no, no, no, no, no, no, no, no, no, no, no, no, no, no, no, no, no, no, no, it is no sin it should be dead,\n",
        "And love and pale as any will to that word.\n",
        "\n",
        "QUEEN ELIZABETH:\n",
        "But how long have I heard the soul for this world,\n",
        "And show his hands of life be proved to stand.\n",
        "\n",
        "PETRUCHIO:\n",
        "I say he look'd on, if I must be content\n",
        "To stay him from the fatal of our country's bliss.\n",
        "His lordship pluck'd from this sentence then for prey,\n",
        "And then let us twain, being the moon,\n",
        "were she such a case as fills m\n",
        "```"
      ],
      "metadata": {
        "id": "Gs5OQ3nyLxP0"
      }
    },
    {
      "cell_type": "markdown",
      "source": [
        "Meskipun beberapa kalimat memiliki tata bahasa, sebagian besar tidak masuk akal. Model belum mempelajari arti kata-kata, namun anggap saja:\n",
        "- Modelnya berbasis karakter. Saat pelatihan dimulai, model tidak mengetahui cara mengeja kata dalam bahasa Inggris, atau bahkan kata-kata tersebut merupakan satuan teks.\n",
        "- Struktur keluarannya menyerupai sandiwara—blok teks umumnya dimulai dengan nama pembicara, dengan huruf kapital semua mirip dengan kumpulan data.\n",
        "- Seperti yang ditunjukkan di bawah, model dilatih pada kumpulan teks kecil (masing-masing 100 karakter), dan masih mampu menghasilkan rangkaian teks yang lebih panjang dengan struktur yang koheren."
      ],
      "metadata": {
        "id": "AyWglbX7M33k"
      }
    },
    {
      "cell_type": "markdown",
      "source": [
        "**Setup**"
      ],
      "metadata": {
        "id": "RneiKvimM9JB"
      }
    },
    {
      "cell_type": "markdown",
      "source": [
        "Import TensorFlow"
      ],
      "metadata": {
        "id": "FZ5pSeDlM_mv"
      }
    },
    {
      "cell_type": "code",
      "source": [
        "import tensorflow as tf\n",
        "import numpy as np\n",
        "import os\n",
        "import time"
      ],
      "metadata": {
        "id": "G16ml2AaLsim"
      },
      "execution_count": null,
      "outputs": []
    },
    {
      "cell_type": "markdown",
      "source": [
        "**Download Dataset Shakespeare**\n",
        "\n",
        "Sesuaikan dengan lokasi data yang Anda punya."
      ],
      "metadata": {
        "id": "sadzgZkGLSJp"
      }
    },
    {
      "cell_type": "code",
      "source": [
        "path_to_file = tf.keras.utils.get_file('shakespeare.txt', 'https://storage.googleapis.com/download.tensorflow.org/data/shakespeare.txt')"
      ],
      "metadata": {
        "colab": {
          "base_uri": "https://localhost:8080/"
        },
        "id": "E4dM21loNHTe",
        "outputId": "b896ef09-c706-4f4b-97d8-75ebd9472264"
      },
      "execution_count": null,
      "outputs": [
        {
          "output_type": "stream",
          "name": "stdout",
          "text": [
            "Downloading data from https://storage.googleapis.com/download.tensorflow.org/data/shakespeare.txt\n",
            "1115394/1115394 [==============================] - 0s 0us/step\n"
          ]
        }
      ]
    },
    {
      "cell_type": "markdown",
      "source": [
        "**Load Data**"
      ],
      "metadata": {
        "id": "LubA6BHkNMA_"
      }
    },
    {
      "cell_type": "code",
      "source": [
        "# Read, then decode for py2 compat.\n",
        "text = open(path_to_file, 'rb').read().decode(encoding='utf-8')\n",
        "# length of text is the number of characters in it\n",
        "print(f'Length of text: {len(text)} characters')"
      ],
      "metadata": {
        "colab": {
          "base_uri": "https://localhost:8080/"
        },
        "id": "4aKrOvkWNR2I",
        "outputId": "97caad2d-148d-4485-b7af-016fba0662a6"
      },
      "execution_count": null,
      "outputs": [
        {
          "output_type": "stream",
          "name": "stdout",
          "text": [
            "Length of text: 1115394 characters\n"
          ]
        }
      ]
    },
    {
      "cell_type": "code",
      "source": [
        "# Take a look at the first 250 characters in text\n",
        "print(text[:250])"
      ],
      "metadata": {
        "colab": {
          "base_uri": "https://localhost:8080/"
        },
        "id": "g9Mfz1ktNT58",
        "outputId": "d8a369a8-baee-43cf-ebfc-e432b9a8fd38"
      },
      "execution_count": null,
      "outputs": [
        {
          "output_type": "stream",
          "name": "stdout",
          "text": [
            "First Citizen:\n",
            "Before we proceed any further, hear me speak.\n",
            "\n",
            "All:\n",
            "Speak, speak.\n",
            "\n",
            "First Citizen:\n",
            "You are all resolved rather to die than to famish?\n",
            "\n",
            "All:\n",
            "Resolved. resolved.\n",
            "\n",
            "First Citizen:\n",
            "First, you know Caius Marcius is chief enemy to the people.\n",
            "\n"
          ]
        }
      ]
    },
    {
      "cell_type": "code",
      "source": [
        "# The unique characters in the file\n",
        "vocab = sorted(set(text))\n",
        "print(f'{len(vocab)} unique characters')"
      ],
      "metadata": {
        "colab": {
          "base_uri": "https://localhost:8080/"
        },
        "id": "ltmMk3J1NVys",
        "outputId": "bfdbdc73-4e9f-4364-86c7-cb43bd88b4a0"
      },
      "execution_count": null,
      "outputs": [
        {
          "output_type": "stream",
          "name": "stdout",
          "text": [
            "65 unique characters\n"
          ]
        }
      ]
    },
    {
      "cell_type": "markdown",
      "source": [
        "### **Olah Teks**\n",
        "\n",
        "**Vectorize Teks**\n",
        "\n",
        "Sebelum training, Anda perlu mengonversi string menjadi representasi numerik. tf.keras.layers.StringLookup dapat mengubah setiap karakter menjadi ID numerik. Caranya adalah teks akan dipecah menjadi token terlebih dahulu."
      ],
      "metadata": {
        "id": "rEXyxE7lNX4P"
      }
    },
    {
      "cell_type": "code",
      "source": [
        "example_texts = ['abcdefg', 'xyz']\n",
        "chars = tf.strings.unicode_split(example_texts, input_encoding='UTF-8')\n",
        "chars"
      ],
      "metadata": {
        "colab": {
          "base_uri": "https://localhost:8080/"
        },
        "id": "H5hF5n0eNhFz",
        "outputId": "e0582c3f-5458-408d-aad3-d32b8a4d40b6"
      },
      "execution_count": null,
      "outputs": [
        {
          "output_type": "execute_result",
          "data": {
            "text/plain": [
              "<tf.RaggedTensor [[b'a', b'b', b'c', b'd', b'e', b'f', b'g'], [b'x', b'y', b'z']]>"
            ]
          },
          "metadata": {},
          "execution_count": 21
        }
      ]
    },
    {
      "cell_type": "markdown",
      "source": [
        "sekarang buat tf.keras.layers.StringLookup layer:"
      ],
      "metadata": {
        "id": "4sJysz93Nqx6"
      }
    },
    {
      "cell_type": "code",
      "source": [
        "ids_from_chars = tf.keras.layers.StringLookup(vocabulary=list(vocab), mask_token=None)"
      ],
      "metadata": {
        "id": "r37ePLGPNoSB"
      },
      "execution_count": null,
      "outputs": []
    },
    {
      "cell_type": "markdown",
      "source": [
        "perintah diatas mengconvert token menjadi id"
      ],
      "metadata": {
        "id": "Fb7tMKdgN0Gs"
      }
    },
    {
      "cell_type": "code",
      "source": [
        "ids = ids_from_chars(chars)\n",
        "ids"
      ],
      "metadata": {
        "colab": {
          "base_uri": "https://localhost:8080/"
        },
        "id": "xdCx858GN0g_",
        "outputId": "dff41792-8851-48ec-b29d-af2a4329047c"
      },
      "execution_count": null,
      "outputs": [
        {
          "output_type": "execute_result",
          "data": {
            "text/plain": [
              "<tf.RaggedTensor [[40, 41, 42, 43, 44, 45, 46], [63, 64, 65]]>"
            ]
          },
          "metadata": {},
          "execution_count": 23
        }
      ]
    },
    {
      "cell_type": "markdown",
      "source": [
        "Karena tujuan tutorial ini adalah untuk menghasilkan teks, penting juga untuk membalikkan representasi ini. Untuk ini Anda dapat menggunakan kode tf.keras.layers.StringLookup(..., invert=True).\n",
        "\n",
        "Catatan: pada kode ini, daripada meneruskan kosakata asli yang dihasilkan dengan diurutkan(set(teks)) gunakan metode get_vocabulary() dari tf.keras.layers.StringLookup sehingga token [UNK] disetel dengan cara yang sama."
      ],
      "metadata": {
        "id": "epqSWoRHN5Wv"
      }
    },
    {
      "cell_type": "code",
      "source": [
        "chars_from_ids = tf.keras.layers.StringLookup(\n",
        "    vocabulary=ids_from_chars.get_vocabulary(), invert=True, mask_token=None)"
      ],
      "metadata": {
        "id": "Wr_2dJJjN6mY"
      },
      "execution_count": null,
      "outputs": []
    },
    {
      "cell_type": "markdown",
      "source": [
        "Lapisan ini mengconvert kembali karakter dari vektor ID, dan mengembalikannya sebagai karakter tf.RaggedTensor:"
      ],
      "metadata": {
        "id": "bwjx-USjN97-"
      }
    },
    {
      "cell_type": "code",
      "source": [
        "chars = chars_from_ids(ids)\n",
        "chars"
      ],
      "metadata": {
        "colab": {
          "base_uri": "https://localhost:8080/"
        },
        "id": "-CpMWi7zN-jV",
        "outputId": "c00fabf8-d0a0-42c3-c0a9-8fb3a4860c46"
      },
      "execution_count": null,
      "outputs": [
        {
          "output_type": "execute_result",
          "data": {
            "text/plain": [
              "<tf.RaggedTensor [[b'a', b'b', b'c', b'd', b'e', b'f', b'g'], [b'x', b'y', b'z']]>"
            ]
          },
          "metadata": {},
          "execution_count": 25
        }
      ]
    },
    {
      "cell_type": "markdown",
      "source": [
        "Anda dapat menggunakan tf.strings.reduce_join untuk menggabungkan kembali karakter menjadi string."
      ],
      "metadata": {
        "id": "zAvptek7OEVP"
      }
    },
    {
      "cell_type": "code",
      "source": [
        "tf.strings.reduce_join(chars, axis=-1).numpy()"
      ],
      "metadata": {
        "colab": {
          "base_uri": "https://localhost:8080/"
        },
        "id": "Ld6fjJb7OE0a",
        "outputId": "04d62301-bac3-4813-ebcf-292e58910830"
      },
      "execution_count": null,
      "outputs": [
        {
          "output_type": "execute_result",
          "data": {
            "text/plain": [
              "array([b'abcdefg', b'xyz'], dtype=object)"
            ]
          },
          "metadata": {},
          "execution_count": 26
        }
      ]
    },
    {
      "cell_type": "code",
      "source": [
        "def text_from_ids(ids):\n",
        "    return tf.strings.reduce_join(chars_from_ids(ids), axis=-1)"
      ],
      "metadata": {
        "id": "C4Fxj3c0OJ1M"
      },
      "execution_count": null,
      "outputs": []
    },
    {
      "cell_type": "markdown",
      "source": [
        "**Prediksi**\n",
        "\n",
        "Diberikan sebuah karakter, atau serangkaian karakter, karakter apa yang paling mungkin berikutnya? Ini adalah tugas yang harus Anda latih agar model dapat melakukannya. Masukan ke model akan berupa urutan karakter, dan Anda melatih model untuk memprediksi keluaran berupa karakter berikut pada setiap langkah waktu. Karena RNN mempertahankan keadaan internal yang bergantung pada elemen yang terlihat sebelumnya, mengingat semua karakter dihitung hingga saat ini, karakter apa selanjutnya?\n",
        "\n",
        "**Membuat Trianing Set dan Target**\n",
        "\n",
        "Selanjutnya bagilah teks menjadi contoh sequence. Setiap masukan sequence akan berisi karakter seq_length dari teks. Untuk setiap masukan sequence, target prediksi berisi teks dengan panjang yang sama, hanya digeser satu karakter ke kanan. Jadi, bagi teks menjadi beberapa bagian seq_length+1. Misalnya, seq_length adalah 4 dan teks kita adalah \"Hello\". Urutan masukannya adalah \"Hell\", dan urutan targetnya adalah \"ello\". Untuk melakukan ini, pertama-tama gunakan fungsi tf.data.Dataset.from_tensor_slices untuk mengonversi vektor teks menjadi aliran indeks karakter."
      ],
      "metadata": {
        "id": "7lvIFccFOQj4"
      }
    },
    {
      "cell_type": "code",
      "source": [
        "all_ids = ids_from_chars(tf.strings.unicode_split(text, 'UTF-8'))\n",
        "all_ids"
      ],
      "metadata": {
        "colab": {
          "base_uri": "https://localhost:8080/"
        },
        "id": "2iiiWZU8ObCV",
        "outputId": "a1db85c0-7fd1-449b-e7b0-d20027c5cc0b"
      },
      "execution_count": null,
      "outputs": [
        {
          "output_type": "execute_result",
          "data": {
            "text/plain": [
              "<tf.Tensor: shape=(1115394,), dtype=int64, numpy=array([19, 48, 57, ..., 46,  9,  1])>"
            ]
          },
          "metadata": {},
          "execution_count": 28
        }
      ]
    },
    {
      "cell_type": "code",
      "source": [
        "ids_dataset = tf.data.Dataset.from_tensor_slices(all_ids)"
      ],
      "metadata": {
        "id": "4W1Hof55OfnS"
      },
      "execution_count": null,
      "outputs": []
    },
    {
      "cell_type": "code",
      "source": [
        "for ids in ids_dataset.take(10):\n",
        "    print(chars_from_ids(ids).numpy().decode('utf-8'))"
      ],
      "metadata": {
        "colab": {
          "base_uri": "https://localhost:8080/"
        },
        "id": "5Y5fhyu0OipC",
        "outputId": "442d76bb-dede-4454-90b7-cccf7d898557"
      },
      "execution_count": null,
      "outputs": [
        {
          "output_type": "stream",
          "name": "stdout",
          "text": [
            "F\n",
            "i\n",
            "r\n",
            "s\n",
            "t\n",
            " \n",
            "C\n",
            "i\n",
            "t\n",
            "i\n"
          ]
        }
      ]
    },
    {
      "cell_type": "code",
      "source": [
        "seq_length = 100"
      ],
      "metadata": {
        "id": "WC6UuJkAOqI-"
      },
      "execution_count": null,
      "outputs": []
    },
    {
      "cell_type": "markdown",
      "source": [
        "Metode batch memungkinkan Anda dengan mudah mengonversi karakter individual ini menjadi urutan ukuran yang diinginkan."
      ],
      "metadata": {
        "id": "fQFUsy3UOtZo"
      }
    },
    {
      "cell_type": "code",
      "source": [
        "sequences = ids_dataset.batch(seq_length+1, drop_remainder=True)\n",
        "\n",
        "for seq in sequences.take(1):\n",
        "  print(chars_from_ids(seq))"
      ],
      "metadata": {
        "colab": {
          "base_uri": "https://localhost:8080/"
        },
        "id": "eL_C3g9cOt2g",
        "outputId": "2f1066fe-90ad-443f-dafa-15a11cc71f5b"
      },
      "execution_count": null,
      "outputs": [
        {
          "output_type": "stream",
          "name": "stdout",
          "text": [
            "tf.Tensor(\n",
            "[b'F' b'i' b'r' b's' b't' b' ' b'C' b'i' b't' b'i' b'z' b'e' b'n' b':'\n",
            " b'\\n' b'B' b'e' b'f' b'o' b'r' b'e' b' ' b'w' b'e' b' ' b'p' b'r' b'o'\n",
            " b'c' b'e' b'e' b'd' b' ' b'a' b'n' b'y' b' ' b'f' b'u' b'r' b't' b'h'\n",
            " b'e' b'r' b',' b' ' b'h' b'e' b'a' b'r' b' ' b'm' b'e' b' ' b's' b'p'\n",
            " b'e' b'a' b'k' b'.' b'\\n' b'\\n' b'A' b'l' b'l' b':' b'\\n' b'S' b'p' b'e'\n",
            " b'a' b'k' b',' b' ' b's' b'p' b'e' b'a' b'k' b'.' b'\\n' b'\\n' b'F' b'i'\n",
            " b'r' b's' b't' b' ' b'C' b'i' b't' b'i' b'z' b'e' b'n' b':' b'\\n' b'Y'\n",
            " b'o' b'u' b' '], shape=(101,), dtype=string)\n"
          ]
        }
      ]
    },
    {
      "cell_type": "markdown",
      "source": [
        "akan lebih mudah untuk melihat apa yang dilakukan jika Anda menggabungkan token kembali menjadi string:"
      ],
      "metadata": {
        "id": "8QadZYCcOx4-"
      }
    },
    {
      "cell_type": "code",
      "source": [
        "for seq in sequences.take(5):\n",
        "    print(text_from_ids(seq).numpy())"
      ],
      "metadata": {
        "colab": {
          "base_uri": "https://localhost:8080/"
        },
        "id": "fIn-LkowOynV",
        "outputId": "7b069d03-daac-4d1f-8743-3cdd6456090b"
      },
      "execution_count": null,
      "outputs": [
        {
          "output_type": "stream",
          "name": "stdout",
          "text": [
            "b'First Citizen:\\nBefore we proceed any further, hear me speak.\\n\\nAll:\\nSpeak, speak.\\n\\nFirst Citizen:\\nYou '\n",
            "b'are all resolved rather to die than to famish?\\n\\nAll:\\nResolved. resolved.\\n\\nFirst Citizen:\\nFirst, you k'\n",
            "b\"now Caius Marcius is chief enemy to the people.\\n\\nAll:\\nWe know't, we know't.\\n\\nFirst Citizen:\\nLet us ki\"\n",
            "b\"ll him, and we'll have corn at our own price.\\nIs't a verdict?\\n\\nAll:\\nNo more talking on't; let it be d\"\n",
            "b'one: away, away!\\n\\nSecond Citizen:\\nOne word, good citizens.\\n\\nFirst Citizen:\\nWe are accounted poor citi'\n"
          ]
        }
      ]
    },
    {
      "cell_type": "markdown",
      "source": [
        "Untuk pelatihan, Anda memerlukan kumpulan data pasangan (input, label). Dimana input dan label merupakan urutan. Pada setiap langkah waktu, inputnya adalah karakter saat ini dan labelnya adalah karakter berikutnya. Berikut adalah fungsi yang mengambil urutan sebagai masukan, menduplikasi, dan menggesernya untuk menyelaraskan masukan dan label untuk setiap langkah waktu:"
      ],
      "metadata": {
        "id": "3XcdbgsNO6Ld"
      }
    },
    {
      "cell_type": "code",
      "source": [
        "def split_input_target(sequence):\n",
        "    input_text = sequence[:-1]\n",
        "    target_text = sequence[1:]\n",
        "    return input_text, target_text"
      ],
      "metadata": {
        "id": "Dly9oNjoO62m"
      },
      "execution_count": null,
      "outputs": []
    },
    {
      "cell_type": "code",
      "source": [
        "split_input_target(list(\"Tensorflow\"))"
      ],
      "metadata": {
        "colab": {
          "base_uri": "https://localhost:8080/"
        },
        "id": "Apz_-zrdPE6F",
        "outputId": "7d7c50be-1220-469d-9469-c9262c0e3b7a"
      },
      "execution_count": null,
      "outputs": [
        {
          "output_type": "execute_result",
          "data": {
            "text/plain": [
              "(['T', 'e', 'n', 's', 'o', 'r', 'f', 'l', 'o'],\n",
              " ['e', 'n', 's', 'o', 'r', 'f', 'l', 'o', 'w'])"
            ]
          },
          "metadata": {},
          "execution_count": 35
        }
      ]
    },
    {
      "cell_type": "code",
      "source": [
        "dataset = sequences.map(split_input_target)"
      ],
      "metadata": {
        "id": "dAVeUQCQPGzx"
      },
      "execution_count": null,
      "outputs": []
    },
    {
      "cell_type": "code",
      "source": [
        "for input_example, target_example in dataset.take(1):\n",
        "    print(\"Input :\", text_from_ids(input_example).numpy())\n",
        "    print(\"Target:\", text_from_ids(target_example).numpy())"
      ],
      "metadata": {
        "colab": {
          "base_uri": "https://localhost:8080/"
        },
        "id": "wCJDnTb7PKmA",
        "outputId": "9465cd37-8e35-44bd-e05b-a826ff9c7964"
      },
      "execution_count": null,
      "outputs": [
        {
          "output_type": "stream",
          "name": "stdout",
          "text": [
            "Input : b'First Citizen:\\nBefore we proceed any further, hear me speak.\\n\\nAll:\\nSpeak, speak.\\n\\nFirst Citizen:\\nYou'\n",
            "Target: b'irst Citizen:\\nBefore we proceed any further, hear me speak.\\n\\nAll:\\nSpeak, speak.\\n\\nFirst Citizen:\\nYou '\n"
          ]
        }
      ]
    },
    {
      "cell_type": "markdown",
      "source": [
        "**Membuat Batch Training**\n",
        "\n",
        "Anda menggunakan tf.data untuk membagi teks menjadi sequence yang dapat diatur. Namun sebelum memasukkan data ini ke dalam model, Anda perlu mengacak data dan mengemasnya ke dalam batch."
      ],
      "metadata": {
        "id": "7RHgtYPTPTCo"
      }
    },
    {
      "cell_type": "code",
      "source": [
        "# Batch size\n",
        "BATCH_SIZE = 64\n",
        "\n",
        "# Buffer size to shuffle the dataset\n",
        "# (TF data is designed to work with possibly infinite sequences,\n",
        "# so it doesn't attempt to shuffle the entire sequence in memory. Instead,\n",
        "# it maintains a buffer in which it shuffles elements).\n",
        "BUFFER_SIZE = 10000\n",
        "\n",
        "dataset = (\n",
        "    dataset\n",
        "    .shuffle(BUFFER_SIZE)\n",
        "    .batch(BATCH_SIZE, drop_remainder=True)\n",
        "    .prefetch(tf.data.experimental.AUTOTUNE))\n",
        "\n",
        "dataset"
      ],
      "metadata": {
        "colab": {
          "base_uri": "https://localhost:8080/"
        },
        "id": "__o7gZjRPUmk",
        "outputId": "d6dfa7ea-5893-43b1-ea74-3b310bf771f8"
      },
      "execution_count": null,
      "outputs": [
        {
          "output_type": "execute_result",
          "data": {
            "text/plain": [
              "<_PrefetchDataset element_spec=(TensorSpec(shape=(64, 100), dtype=tf.int64, name=None), TensorSpec(shape=(64, 100), dtype=tf.int64, name=None))>"
            ]
          },
          "metadata": {},
          "execution_count": 38
        }
      ]
    },
    {
      "cell_type": "markdown",
      "source": [
        "### **Buat Model**\n",
        "\n",
        "Bagian ini mendefinisikan model sebagai subkelas keras.Model (untuk lebih detilnya, lihat Making new Layers and Models via subclassing).\n",
        "Model yang kita bangun memiliki 3 lapisan neural network :\n",
        "- tf.keras.layers.Embedding: Lapisan masukan. Tabel pencarian yang dapat dilatih yang akan memetakan setiap karakter-ID ke vektor dengan dimensi embedding_dim;\n",
        "- tf.keras.layers.GRU: lapisan RNN dengan ukuran unit=rnn_units (Anda juga dapat menggunakan lapisan LSTM di sini.)\n",
        "- tf.keras.layers.Dense: Lapisan keluaran, dengan keluaran vocab_size. Ini menghasilkan satu logit untuk setiap karakter dalam kosakata. Ini adalah log kemungkinan setiap karakter menurut model."
      ],
      "metadata": {
        "id": "5-RSNDOuPYT-"
      }
    },
    {
      "cell_type": "code",
      "source": [
        "# Length of the vocabulary in StringLookup Layer\n",
        "vocab_size = len(ids_from_chars.get_vocabulary())\n",
        "\n",
        "# The embedding dimension\n",
        "embedding_dim = 256\n",
        "\n",
        "# Number of RNN units\n",
        "rnn_units = 1024"
      ],
      "metadata": {
        "id": "j9KfsTwxPkpZ"
      },
      "execution_count": null,
      "outputs": []
    },
    {
      "cell_type": "code",
      "source": [
        "class MyModel(tf.keras.Model):\n",
        "  def __init__(self, vocab_size, embedding_dim, rnn_units):\n",
        "    super().__init__(self)\n",
        "    self.embedding = tf.keras.layers.Embedding(vocab_size, embedding_dim)\n",
        "    self.gru = tf.keras.layers.GRU(rnn_units,\n",
        "                                   return_sequences=True,\n",
        "                                   return_state=True)\n",
        "    self.dense = tf.keras.layers.Dense(vocab_size)\n",
        "\n",
        "  def call(self, inputs, states=None, return_state=False, training=False):\n",
        "    x = inputs\n",
        "    x = self.embedding(x, training=training)\n",
        "    if states is None:\n",
        "      states = self.gru.get_initial_state(x)\n",
        "    x, states = self.gru(x, initial_state=states, training=training)\n",
        "    x = self.dense(x, training=training)\n",
        "\n",
        "    if return_state:\n",
        "      return x, states\n",
        "    else:\n",
        "      return x"
      ],
      "metadata": {
        "id": "oVWERTsRPxeX"
      },
      "execution_count": null,
      "outputs": []
    },
    {
      "cell_type": "code",
      "source": [
        "model = MyModel(\n",
        "    vocab_size=vocab_size,\n",
        "    embedding_dim=embedding_dim,\n",
        "    rnn_units=rnn_units)"
      ],
      "metadata": {
        "id": "Wt2i6f0aP0aA"
      },
      "execution_count": null,
      "outputs": []
    },
    {
      "cell_type": "markdown",
      "source": [
        "Untuk setiap karakter, model mencari penyematan, menjalankan GRU satu langkah waktu dengan penyematan sebagai masukan, dan menerapkan dense layer untuk menghasilkan log yang memprediksi kemungkinan log karakter berikutnya:"
      ],
      "metadata": {
        "id": "_wJbFZrXP2s5"
      }
    },
    {
      "cell_type": "markdown",
      "source": [
        "Note: Untuk pelatihan Anda bisa menggunakan model keras.Sequential di sini. Untuk menghasilkan teks nanti, Anda harus mengelola status internal RNN. Akan lebih mudah untuk memasukkan opsi input dan output status di awal, daripada mengatur ulang arsitektur model nanti. untuk detailnya bisa dilihat Keras RNN guide."
      ],
      "metadata": {
        "id": "R4uO1dh1P40C"
      }
    },
    {
      "cell_type": "markdown",
      "source": [
        "### **Uji Model**\n",
        "\n",
        "Coba jalankan model dan cek apakah sidah sesuai dengan output\n",
        "pertama, cek bentuk dari output"
      ],
      "metadata": {
        "id": "2ooKbqbGP6kc"
      }
    },
    {
      "cell_type": "code",
      "source": [
        "for input_example_batch, target_example_batch in dataset.take(1):\n",
        "    example_batch_predictions = model(input_example_batch)\n",
        "    print(example_batch_predictions.shape, \"# (batch_size, sequence_length, vocab_size)\")"
      ],
      "metadata": {
        "colab": {
          "base_uri": "https://localhost:8080/"
        },
        "id": "i-Yd558wP_lR",
        "outputId": "9619df8d-2770-43c9-fd97-3589fe981d54"
      },
      "execution_count": null,
      "outputs": [
        {
          "output_type": "stream",
          "name": "stdout",
          "text": [
            "(64, 100, 66) # (batch_size, sequence_length, vocab_size)\n"
          ]
        }
      ]
    },
    {
      "cell_type": "markdown",
      "source": [
        "Dalam contoh di atas, panjang urutan masukan adalah 100 tetapi model dapat dijalankan pada masukan dengan panjang berapa pun:"
      ],
      "metadata": {
        "id": "FosZB5I8QCO-"
      }
    },
    {
      "cell_type": "code",
      "source": [
        "model.summary()"
      ],
      "metadata": {
        "colab": {
          "base_uri": "https://localhost:8080/"
        },
        "id": "4r5_akXzQCzN",
        "outputId": "fbe1efe9-61f8-4156-feb5-f94fcc896f0e"
      },
      "execution_count": null,
      "outputs": [
        {
          "output_type": "stream",
          "name": "stdout",
          "text": [
            "Model: \"my_model\"\n",
            "_________________________________________________________________\n",
            " Layer (type)                Output Shape              Param #   \n",
            "=================================================================\n",
            " embedding_1 (Embedding)     multiple                  16896     \n",
            "                                                                 \n",
            " gru_1 (GRU)                 multiple                  3938304   \n",
            "                                                                 \n",
            " dense_1 (Dense)             multiple                  67650     \n",
            "                                                                 \n",
            "=================================================================\n",
            "Total params: 4022850 (15.35 MB)\n",
            "Trainable params: 4022850 (15.35 MB)\n",
            "Non-trainable params: 0 (0.00 Byte)\n",
            "_________________________________________________________________\n"
          ]
        }
      ]
    },
    {
      "cell_type": "markdown",
      "source": [
        "Untuk mendapatkan prediksi aktual dari model, Anda perlu mengambil sampel dari distribusi keluaran, untuk mendapatkan indeks karakter aktual. Distribusi ini ditentukan oleh logit pada kosakata karakter. Catatan: Penting untuk mengambil sampel dari distribusi ini karena mengambil argmax dari distribusi tersebut dapat dengan mudah membuat model terjebak dalam infinote loop. Cobalah untuk contoh pertama di batch:"
      ],
      "metadata": {
        "id": "EpXjEDF-QGFT"
      }
    },
    {
      "cell_type": "code",
      "source": [
        "sampled_indices = tf.random.categorical(example_batch_predictions[0], num_samples=1)\n",
        "sampled_indices = tf.squeeze(sampled_indices, axis=-1).numpy()"
      ],
      "metadata": {
        "id": "4aJ1tW6hQGkL"
      },
      "execution_count": null,
      "outputs": []
    },
    {
      "cell_type": "markdown",
      "source": [
        "Hal ini memberi kita, pada setiap langkah waktu, prediksi indeks karakter berikutnya:"
      ],
      "metadata": {
        "id": "X-MPWnsaQNuS"
      }
    },
    {
      "cell_type": "code",
      "source": [
        "sampled_indices"
      ],
      "metadata": {
        "colab": {
          "base_uri": "https://localhost:8080/"
        },
        "id": "OVX1y_fdQPGt",
        "outputId": "371abfb7-721c-4702-be7d-85e526f8d633"
      },
      "execution_count": null,
      "outputs": [
        {
          "output_type": "execute_result",
          "data": {
            "text/plain": [
              "array([ 4,  5, 52, 28, 58, 14,  6, 41, 13,  9, 58, 10,  2, 42, 19,  4, 41,\n",
              "       10,  8,  8, 46, 42,  0, 27, 62,  0, 38, 28,  9, 47, 11, 15, 15, 22,\n",
              "       53, 55,  1,  8, 63, 43, 49,  5, 10, 38, 38, 39, 15, 27, 63, 57, 41,\n",
              "       54,  9, 54, 53, 60, 63,  9, 17, 27, 17,  8, 36, 34, 50, 65, 53, 16,\n",
              "       40, 38, 34, 44, 43, 10,  4, 46, 65, 44, 11, 25, 26, 59,  7, 46, 28,\n",
              "       56, 39, 12, 17, 55, 16, 30, 47, 57, 14, 14, 27, 11, 24, 17])"
            ]
          },
          "metadata": {},
          "execution_count": 45
        }
      ]
    },
    {
      "cell_type": "markdown",
      "source": [
        "Dekode kode berikut untuk melihat teks yang diprediksi oleh model tidak terlatih ini:"
      ],
      "metadata": {
        "id": "Zp2_fbpwQRh7"
      }
    },
    {
      "cell_type": "code",
      "source": [
        "print(\"Input:\\n\", text_from_ids(input_example_batch[0]).numpy())\n",
        "print()\n",
        "print(\"Next Char Predictions:\\n\", text_from_ids(sampled_indices).numpy())"
      ],
      "metadata": {
        "colab": {
          "base_uri": "https://localhost:8080/"
        },
        "id": "5o_TZ8MnQSlJ",
        "outputId": "1f32ab37-6382-4492-cbd2-90a81614be39"
      },
      "execution_count": null,
      "outputs": [
        {
          "output_type": "stream",
          "name": "stdout",
          "text": [
            "Input:\n",
            " b' thorns and is rent with the thorns,\\nSeeking a way and straying from the way;\\nNot knowing how to fin'\n",
            "\n",
            "Next Char Predictions:\n",
            " b\"$&mOsA'b?.s3 cF$b3--gc[UNK]Nw[UNK]YO.h:BBInp\\n-xdj&3YYZBNxrbo.onux.DND-WUkznCaYUed3$gze:LMt,gOqZ;DpCQhrAAN:KD\"\n"
          ]
        }
      ]
    },
    {
      "cell_type": "markdown",
      "source": [
        "### **Train Model**\n",
        "\n",
        "Pada titik ini permasalahan dapat dianggap sebagai permasalahan klasifikasi standar. Permasalahan dapat disimpulkan dengan : Berdasarkan status RNN sebelumnya, dan masukan langkah kali ini, prediksi kelas karakter berikutnya.\n",
        "\n",
        "**Tambahan optimizer dan fungsi loss**\n",
        "\n",
        "loss function tf.keras.losses.sparse_categorical_crossentropy standar berfungsi dalam kasus ini karena diterapkan di seluruh dimensi terakhir prediksi. Karena model Anda mengembalikan logits, Anda perlu mengatur flag from_logits."
      ],
      "metadata": {
        "id": "0wpldgoaQYq6"
      }
    },
    {
      "cell_type": "code",
      "source": [
        "loss = tf.losses.SparseCategoricalCrossentropy(from_logits=True)"
      ],
      "metadata": {
        "id": "T80mcJe8Qeh9"
      },
      "execution_count": null,
      "outputs": []
    },
    {
      "cell_type": "code",
      "source": [
        "example_batch_mean_loss = loss(target_example_batch, example_batch_predictions)\n",
        "print(\"Prediction shape: \", example_batch_predictions.shape, \" # (batch_size, sequence_length, vocab_size)\")\n",
        "print(\"Mean loss:        \", example_batch_mean_loss)"
      ],
      "metadata": {
        "colab": {
          "base_uri": "https://localhost:8080/"
        },
        "id": "MOn5q1NTQiYv",
        "outputId": "40d2d737-231b-4f9a-e75c-f1b91187c175"
      },
      "execution_count": null,
      "outputs": [
        {
          "output_type": "stream",
          "name": "stdout",
          "text": [
            "Prediction shape:  (64, 100, 66)  # (batch_size, sequence_length, vocab_size)\n",
            "Mean loss:         tf.Tensor(4.1916423, shape=(), dtype=float32)\n"
          ]
        }
      ]
    },
    {
      "cell_type": "markdown",
      "source": [
        "Model yang baru diinisialisasi tidak boleh terlalu yakin dengan dirinya sendiri, semua log keluaran harus memiliki besaran yang sama. Untuk mengonfirmasi hal ini, Anda dapat memeriksa bahwa eksponensial dari loss rata-rata harus kira-kira sama dengan ukuran kosakata. Loss yang jauh lebih tinggi berarti model tersebut yakin akan jawaban yang salah, dan memiliki inisialisasi yang buruk:"
      ],
      "metadata": {
        "id": "s1cv91uLQlBn"
      }
    },
    {
      "cell_type": "code",
      "source": [
        "tf.exp(example_batch_mean_loss).numpy()"
      ],
      "metadata": {
        "colab": {
          "base_uri": "https://localhost:8080/"
        },
        "id": "djWTwYB8Qlhr",
        "outputId": "f2cd5d5a-146c-41c1-ec89-f33dd58e7e0d"
      },
      "execution_count": null,
      "outputs": [
        {
          "output_type": "execute_result",
          "data": {
            "text/plain": [
              "66.13131"
            ]
          },
          "metadata": {},
          "execution_count": 49
        }
      ]
    },
    {
      "cell_type": "markdown",
      "source": [
        "Konfigurasikan prosedur pelatihan menggunakan metode tf.keras.Model.compile. Gunakan tf.keras.optimizers.Adam dengan argumen default dan fungsi loss."
      ],
      "metadata": {
        "id": "jixp6IjzQqG5"
      }
    },
    {
      "cell_type": "code",
      "source": [
        "model.compile(optimizer='adam', loss=loss)"
      ],
      "metadata": {
        "id": "vjlBr1U3QrYx"
      },
      "execution_count": null,
      "outputs": []
    },
    {
      "cell_type": "markdown",
      "source": [
        "**Konfigurasi Checkpoints**\n",
        "\n",
        "Gunakan tf.keras.callbacks.ModelCheckpoint untuk memastikan bahwa checkpoint disimpan selama pelatihan:"
      ],
      "metadata": {
        "id": "W3ti4EfGQvWG"
      }
    },
    {
      "cell_type": "code",
      "source": [
        "# Directory where the checkpoints will be saved\n",
        "checkpoint_dir = './training_checkpoints'\n",
        "# Name of the checkpoint files\n",
        "checkpoint_prefix = os.path.join(checkpoint_dir, \"ckpt_{epoch}\")\n",
        "\n",
        "checkpoint_callback = tf.keras.callbacks.ModelCheckpoint(\n",
        "    filepath=checkpoint_prefix,\n",
        "    save_weights_only=True)"
      ],
      "metadata": {
        "id": "Wk1uqutqQyPv"
      },
      "execution_count": null,
      "outputs": []
    },
    {
      "cell_type": "markdown",
      "source": [
        "**Lakukan Proses Training**\n",
        "\n",
        "Agar waktu pelatihan tidak terlalu lama, gunakan 10 epoch untuk melatih model. Di Colab, setel runtime ke GPU untuk pelatihan yang lebih cepat."
      ],
      "metadata": {
        "id": "aLAcgi3mQ1of"
      }
    },
    {
      "cell_type": "code",
      "source": [
        "EPOCHS = 20"
      ],
      "metadata": {
        "id": "f8QJApo0Q4j1"
      },
      "execution_count": null,
      "outputs": []
    },
    {
      "cell_type": "code",
      "source": [
        "history = model.fit(dataset, epochs=EPOCHS, callbacks=[checkpoint_callback])"
      ],
      "metadata": {
        "colab": {
          "base_uri": "https://localhost:8080/"
        },
        "id": "NqwxjCuTQ7uR",
        "outputId": "11988d5f-7d09-49bd-ea01-5e3e218986ad"
      },
      "execution_count": null,
      "outputs": [
        {
          "output_type": "stream",
          "name": "stdout",
          "text": [
            "Epoch 1/20\n",
            "172/172 [==============================] - 870s 5s/step - loss: 2.7219\n",
            "Epoch 2/20\n",
            "172/172 [==============================] - 822s 5s/step - loss: 1.9885\n",
            "Epoch 3/20\n",
            "172/172 [==============================] - 826s 5s/step - loss: 1.7152\n",
            "Epoch 4/20\n",
            "172/172 [==============================] - 823s 5s/step - loss: 1.5556\n",
            "Epoch 5/20\n",
            "172/172 [==============================] - 823s 5s/step - loss: 1.4563\n",
            "Epoch 6/20\n",
            "172/172 [==============================] - 830s 5s/step - loss: 1.3886\n",
            "Epoch 7/20\n",
            "172/172 [==============================] - 829s 5s/step - loss: 1.3360\n",
            "Epoch 8/20\n",
            "172/172 [==============================] - 835s 5s/step - loss: 1.2903\n",
            "Epoch 9/20\n",
            "172/172 [==============================] - 837s 5s/step - loss: 1.2502\n",
            "Epoch 10/20\n",
            "172/172 [==============================] - 855s 5s/step - loss: 1.2111\n",
            "Epoch 11/20\n",
            "172/172 [==============================] - 823s 5s/step - loss: 1.1712\n",
            "Epoch 12/20\n",
            "172/172 [==============================] - 802s 5s/step - loss: 1.1306\n",
            "Epoch 13/20\n",
            "172/172 [==============================] - 802s 5s/step - loss: 1.0888\n",
            "Epoch 14/20\n",
            "172/172 [==============================] - 799s 5s/step - loss: 1.0432\n",
            "Epoch 15/20\n",
            "172/172 [==============================] - 804s 5s/step - loss: 0.9950\n",
            "Epoch 16/20\n",
            "172/172 [==============================] - 812s 5s/step - loss: 0.9446\n",
            "Epoch 17/20\n",
            "172/172 [==============================] - 821s 5s/step - loss: 0.8928\n",
            "Epoch 18/20\n",
            "172/172 [==============================] - 820s 5s/step - loss: 0.8397\n",
            "Epoch 19/20\n",
            "172/172 [==============================] - 815s 5s/step - loss: 0.7881\n",
            "Epoch 20/20\n",
            "172/172 [==============================] - 812s 5s/step - loss: 0.7389\n"
          ]
        }
      ]
    },
    {
      "cell_type": "markdown",
      "source": [
        "### **Generate Teks**\n",
        "\n",
        "Cara termudah untuk menghasilkan teks dengan model ini adalah dengan menjalankannya dalam loop, dan menyimpan status internal model saat Anda menjalankannya.\n",
        "\n",
        "Setiap kali Anda memanggil model, Anda memasukkan beberapa teks dan state internal. Model mengembalikan prediksi untuk karakter berikutnya dan state barunya. Masukkan kembali prediksi dan state ke model untuk terus menghasilkan teks."
      ],
      "metadata": {
        "id": "B9v1lIZJRAyP"
      }
    },
    {
      "cell_type": "markdown",
      "source": [
        "Berikut ini membuat prediksi satu langkah:"
      ],
      "metadata": {
        "id": "1844Zjv4RIfK"
      }
    },
    {
      "cell_type": "code",
      "source": [
        "class OneStep(tf.keras.Model):\n",
        "  def __init__(self, model, chars_from_ids, ids_from_chars, temperature=1.0):\n",
        "    super().__init__()\n",
        "    self.temperature = temperature\n",
        "    self.model = model\n",
        "    self.chars_from_ids = chars_from_ids\n",
        "    self.ids_from_chars = ids_from_chars\n",
        "\n",
        "    # Create a mask to prevent \"[UNK]\" from being generated.\n",
        "    skip_ids = self.ids_from_chars(['[UNK]'])[:, None]\n",
        "    sparse_mask = tf.SparseTensor(\n",
        "        # Put a -inf at each bad index.\n",
        "        values=[-float('inf')]*len(skip_ids),\n",
        "        indices=skip_ids,\n",
        "        # Match the shape to the vocabulary\n",
        "        dense_shape=[len(ids_from_chars.get_vocabulary())])\n",
        "    self.prediction_mask = tf.sparse.to_dense(sparse_mask)\n",
        "\n",
        "  @tf.function\n",
        "  def generate_one_step(self, inputs, states=None):\n",
        "    # Convert strings to token IDs.\n",
        "    input_chars = tf.strings.unicode_split(inputs, 'UTF-8')\n",
        "    input_ids = self.ids_from_chars(input_chars).to_tensor()\n",
        "\n",
        "    # Run the model.\n",
        "    # predicted_logits.shape is [batch, char, next_char_logits]\n",
        "    predicted_logits, states = self.model(inputs=input_ids, states=states,\n",
        "                                          return_state=True)\n",
        "    # Only use the last prediction.\n",
        "    predicted_logits = predicted_logits[:, -1, :]\n",
        "    predicted_logits = predicted_logits/self.temperature\n",
        "    # Apply the prediction mask: prevent \"[UNK]\" from being generated.\n",
        "    predicted_logits = predicted_logits + self.prediction_mask\n",
        "\n",
        "    # Sample the output logits to generate token IDs.\n",
        "    predicted_ids = tf.random.categorical(predicted_logits, num_samples=1)\n",
        "    predicted_ids = tf.squeeze(predicted_ids, axis=-1)\n",
        "\n",
        "    # Convert from token ids to characters\n",
        "    predicted_chars = self.chars_from_ids(predicted_ids)\n",
        "\n",
        "    # Return the characters and model state.\n",
        "    return predicted_chars, states"
      ],
      "metadata": {
        "id": "O2u4KX4wRJC_"
      },
      "execution_count": null,
      "outputs": []
    },
    {
      "cell_type": "code",
      "source": [
        "one_step_model = OneStep(model, chars_from_ids, ids_from_chars)"
      ],
      "metadata": {
        "id": "EbLWAenHRMlD"
      },
      "execution_count": null,
      "outputs": []
    },
    {
      "cell_type": "markdown",
      "source": [
        "Jalankan secara berulang untuk menghasilkan beberapa teks. Melihat teks yang dihasilkan, Anda akan melihat model mengetahui kapan harus menggunakan huruf besar, membuat paragraf, dan meniru kosakata menulis seperti Shakespeare. Karena sedikitnya jumlah epoch pelatihan, model belum belajar membentuk kalimat runtut."
      ],
      "metadata": {
        "id": "mKg_fceqRPdO"
      }
    },
    {
      "cell_type": "code",
      "source": [
        "start = time.time()\n",
        "states = None\n",
        "next_char = tf.constant(['ROMEO:'])\n",
        "result = [next_char]\n",
        "\n",
        "for n in range(1000):\n",
        "  next_char, states = one_step_model.generate_one_step(next_char, states=states)\n",
        "  result.append(next_char)\n",
        "\n",
        "result = tf.strings.join(result)\n",
        "end = time.time()\n",
        "print(result[0].numpy().decode('utf-8'), '\\n\\n' + '_'*80)\n",
        "print('\\nRun time:', end - start)"
      ],
      "metadata": {
        "colab": {
          "base_uri": "https://localhost:8080/"
        },
        "id": "VCOavRWBRRPD",
        "outputId": "1f08b0bb-aece-47ab-8045-ab23819e77b2"
      },
      "execution_count": null,
      "outputs": [
        {
          "output_type": "stream",
          "name": "stdout",
          "text": [
            "ROMEO:\n",
            "Royally, I would have stain'd with wearous\n",
            "When it secrets till God saye's guard\n",
            "Will use you are come to have it you and travel: such a dear deed wome\n",
            "Drowning but their love for vistort.\n",
            "But, thus he is banish'd: and thou art true for me.\n",
            "\n",
            "GREMIO:\n",
            "They put her so, he is a soldier.\n",
            "\n",
            "FRIAR THOME:\n",
            "But she'll see; sir, in my strong studding ramed the curst\n",
            "And spring the world to calb Edward's thing?\n",
            "O! who art thou? hast proclaim'd Morswal the earth,\n",
            "The general is so earth's vaushing: he cannot choose but is\n",
            "The people day.\n",
            "\n",
            "First Lord:\n",
            "A letter for your grace's dog\n",
            "this most profess'd face, this speed the king\n",
            "not wounds; and would not for thee women\n",
            "Than promised keep it with his; fear thus most proportion;\n",
            "But, like a kingdom, toward my be they shall not work\n",
            "The veriath have pardon'd for I may kingly to\n",
            "on't.\n",
            "\n",
            "Tailor:\n",
            "What cannot but a mad marriage well deserves\n",
            "To have themself do hold companions,\n",
            "invited for the test more begins too general.\n",
            "\n",
            "Tailor:\n",
            "Your royal souls,\n",
            "I'll gract \n",
            "\n",
            "________________________________________________________________________________\n",
            "\n",
            "Run time: 3.858076333999634\n"
          ]
        }
      ]
    },
    {
      "cell_type": "markdown",
      "source": [
        "Hal termudah yang dapat Anda lakukan untuk meningkatkan hasil adalah dengan melatihnya lebih lama (coba EPOCHS = 30). Anda juga dapat bereksperimen dengan string awal yang berbeda, mencoba menambahkan lapisan RNN lain untuk meningkatkan akurasi model, atau menyesuaikan parameter suhu untuk menghasilkan prediksi yang kurang lebih acak.\n",
        "Jika Anda ingin model menghasilkan teks lebih cepat, hal termudah yang dapat Anda lakukan adalah membuat teks secara batch. Pada contoh di bawah, model menghasilkan 5 keluaran dalam waktu yang hampir sama dengan waktu yang dibutuhkan untuk menghasilkan 1 keluaran di atas."
      ],
      "metadata": {
        "id": "jdPXEA9KRUYB"
      }
    },
    {
      "cell_type": "code",
      "source": [
        "start = time.time()\n",
        "states = None\n",
        "next_char = tf.constant(['ROMEO:', 'ROMEO:', 'ROMEO:', 'ROMEO:', 'ROMEO:'])\n",
        "result = [next_char]\n",
        "\n",
        "for n in range(1000):\n",
        "  next_char, states = one_step_model.generate_one_step(next_char, states=states)\n",
        "  result.append(next_char)\n",
        "\n",
        "result = tf.strings.join(result)\n",
        "end = time.time()\n",
        "print(result, '\\n\\n' + '_'*80)\n",
        "print('\\nRun time:', end - start)"
      ],
      "metadata": {
        "colab": {
          "base_uri": "https://localhost:8080/"
        },
        "id": "H9yeWum2RVnx",
        "outputId": "c0f6fe31-d438-4d19-8e73-6e4332e0ecc5"
      },
      "execution_count": null,
      "outputs": [
        {
          "output_type": "stream",
          "name": "stdout",
          "text": [
            "tf.Tensor(\n",
            "[b\"ROMEO:\\nAlthough apt a time be merry, statedmined here,\\nHe would must I.\\nSha, there gave him to hear of stones arms perform, fate breaks,\\nAnd troubous IO, who lived kings Kate,\\nWhom we give me occasion of the kean\\nJuliet: what thinkes you custom, marcius it is:\\nShould I be id, it is so, and my son should be thus still wrought\\nyou word.\\n\\nAUTOLYCUS:\\nIf the hand queen and my request of no other\\nThan bearing murderer, who stoop'd not? If he\\nHad cheer'd by his own reports from me.--\\nHe did not I:\\nno, no more? away? The Earl of March Isabel,\\nAnd rob him speak of the duke's returd: so then she\\nis dead, or chief is chariquioned in the last,\\nWhere art iblects ne'er said 'ay's dead; here's nobody laib,\\nYet not in them at the court.\\n\\nCOMINIUS:\\nYou should have it so.\\nBatter, it is but greeting, we will not mark.\\n\\nLEONTES:\\nO he does! I am none but violence!\\nWhy, these great creator in the duke shall repose\\nThis business wound aside their eyes.\\nI am the reversion of the wax of king.\\nTurn person when I shal\"\n",
            " b\"ROMEO:\\nA senseless grandsirl to their gentle-night.\\nSkining of my brow, let's fall all the dead.\\n\\nLUCIO:\\nIf the king King Richard is of rage: I'll pass\\nThe royal body to and her methough.\\n\\nNORTHUMBERLAND:\\nThe proverf't blood of sovereign, King Edward's gift?\\nPardon me, good buth, warding thee for her to-morrow.\\n\\nQUEEN MARGARET:\\nAy, like his holy nearer.\\n\\nGRUMIO:\\nI pray you do.\\nI pray you, unnother.\\n\\nCLARENCE:\\nTo tell thee, fool. fit how 'tis here?\\n\\nSTANLEY:\\nO defend; no more should call it boos.\\nNever thy hand kill me, to an heard him stand,\\nIn all swicks in our brother Rove the prince,\\nand well swear i': and, say you so? the fires shouldst say\\nShe is not yours.\\n\\nLUCIO:\\nThey are, in Capules go enter our high spirit\\nOf England's to grow to use his friends: mine\\nin this conspiry of Rome, remember we, towards her persua\\nis vial. Shall, the sister of my points,\\nA swearing son to-warn again.\\n\\nPRINCE:\\nRomeo slew, erranding are they depart.\\n\\nHENRY BOLINGBROKE:\\nMy gracious sovereign, ay: answer befo\"\n",
            " b\"ROMEO:\\nGood then, awaked like a mead man's appoor.\\n\\nPOMPEY:\\nI beseech you, when they shall go slow him still.\\n\\nANTONIO:\\nWe know't; do not say so, near deeds must I\\nupon my grievous castle onjy my valiant lord,\\nAs it was murdered blood in streaking fear.\\nYou would be hereafter, so we noy? is he with dead!\\n\\nRICHARD:\\nAvound, slaughter'd feetles; but but thou art glows,\\nAnd say 'What shall be through, witness to have and\\ndrawn from her: 'we did her brothers.\\n\\nKING LEWIS XI:\\nFair Sirrow, where is he was caugard, how my Kate;\\nAnd when she can deceive us; then you stual down,\\nYet greatel here be ill: Such is your worshipffence,\\nThe blood I have a husband for her person.\\n\\nMISTRESS OVERDONE:\\nWhat saying is the lutting brotherbor?\\n\\nCLARENCEL:\\nTell them! Leave me, and am I left to speak.\\n\\nBENVOLIO:\\nI pray thee, mark me, in the treitorsent of our meaning,\\nYour sons with wrath.\\n\\nFirst Watchman:\\nWhat, rid you not hear?\\n\\nLUCIO:\\nYou might have done a graver men of rascal be.\\nI must have told me instame, a r\"\n",
            " b\"ROMEO:\\nAt the Garest open weat any is six one of either plead:\\nThat's see where Ty bud me all.\\nHere's further, for me it should be hort.\\n\\nLORD OF SOMEONE:\\nVirtue itself to say\\nWhen Blant Bolingbroke, revenge him not.\\n\\nKING LEWIS:\\nBreak off thee the first,\\nAnd marry, were it like a doge,\\nOur judgment days against thee,\\nthough this mound of printerous. Nay, adverse.\\n\\nGaoler:\\nAnd look to do you prove,\\nshe must obey: told him I were spited matter; for\\nAnd I intend marriage, 'twould be your kind to friar.\\nNow first she hath drinking me off with sweat,\\nAn alms about to arm and gale?\\nThe gods go. I am the pattor,\\nWorthy Senator:\\nYet all their prayers of heaven, ha' look\\nAnd light unrook'd face the end of rock;\\nAnd thou shalt hill meet against infrudge?\\n\\nTRANIO:\\nO miserable and speak to me,\\nIn twenty manny our hearts, toke upon me,\\nAnd in the dreams of heavy in his trade,\\nHer rather call upon these kingdom and\\nTo do them good that creech is cheek?\\nWhy, as I do, it is no limits: keep not\\nas my affabi\"\n",
            " b\"ROMEO:\\nOne see had then, and be cut down, and from\\nthese grief and stet them affection.\\n\\nSecond Servingman:\\nWhere's the party gentleman! what needs be gone?\\n\\nNORTHUMNON:\\nGo women are she comes from executed him.\\n\\nBoth:\\nI knew by hanged upon him.\\n\\nANGELO:\\nWho canst thou stoop to Richmond; go along\\nAs old as help Madam at my faithful act.\\n\\nFALIRINA:\\nPeace upon me! is he not? what souls\\nYou do know the chamberawn\\nThe angry steeds that at the famous of\\nyour ground, and all the ranciphes' wars\\nFor raging of the world, 'tis too a gentleman. These things are prince,\\nThat in their pent than tempest shums,\\nLest bitterly and my sweet lodger heart:\\nNor did her so, and me, Tapalt feast, or march,\\nI long no first but by so hold a man;\\nAnd in this toppy heaven, I have sworn\\nThose Edward's stand; I speak this characher\\nWith fix observanta's. Hark!\\n\\nMENENIUS:\\nIf we meet again, be gone,\\non each remember'd by you now.\\n\\nPETRUCHIO:\\nNow by the armour thing for me that seems\\nHurs it a thing cormenable and by crea\"], shape=(5,), dtype=string) \n",
            "\n",
            "________________________________________________________________________________\n",
            "\n",
            "Run time: 4.330610036849976\n"
          ]
        }
      ]
    },
    {
      "cell_type": "markdown",
      "source": [
        "**Ekspor Model Generator**\n",
        "\n",
        "Model satu langkah ini dapat dengan mudah disimpan dan digunakan kembali, memungkinkan Anda menggunakannya di mana pun tf.saved_model diterima."
      ],
      "metadata": {
        "id": "mab3qhuwRXfT"
      }
    },
    {
      "cell_type": "code",
      "source": [
        "tf.saved_model.save(one_step_model, 'one_step')\n",
        "one_step_reloaded = tf.saved_model.load('one_step')"
      ],
      "metadata": {
        "colab": {
          "base_uri": "https://localhost:8080/"
        },
        "id": "6-JvyWhVRZLY",
        "outputId": "bb29718f-ec28-4f00-bdb9-733b21bdc1a9"
      },
      "execution_count": null,
      "outputs": [
        {
          "output_type": "stream",
          "name": "stderr",
          "text": [
            "WARNING:tensorflow:Skipping full serialization of Keras layer <__main__.OneStep object at 0x7806899de140>, because it is not built.\n",
            "WARNING:tensorflow:Model's `__init__()` arguments contain non-serializable objects. Please implement a `get_config()` method in the subclassed Model for proper saving and loading. Defaulting to empty config.\n",
            "WARNING:tensorflow:Model's `__init__()` arguments contain non-serializable objects. Please implement a `get_config()` method in the subclassed Model for proper saving and loading. Defaulting to empty config.\n"
          ]
        }
      ]
    },
    {
      "cell_type": "code",
      "source": [
        "states = None\n",
        "next_char = tf.constant(['ROMEO:'])\n",
        "result = [next_char]\n",
        "\n",
        "for n in range(100):\n",
        "  next_char, states = one_step_reloaded.generate_one_step(next_char, states=states)\n",
        "  result.append(next_char)\n",
        "\n",
        "print(tf.strings.join(result)[0].numpy().decode(\"utf-8\"))"
      ],
      "metadata": {
        "colab": {
          "base_uri": "https://localhost:8080/"
        },
        "id": "2JTuq-uFRawY",
        "outputId": "32f48633-49da-4607-a863-9fd1afaf4d90"
      },
      "execution_count": null,
      "outputs": [
        {
          "output_type": "stream",
          "name": "stdout",
          "text": [
            "ROMEO:\n",
            "Soft! what doth back dead, resolve me not the false;\n",
            "Such is the cast quickly yours.\n",
            "How sweet I th\n"
          ]
        }
      ]
    },
    {
      "cell_type": "markdown",
      "source": [
        "# **Tugas**\n",
        "\n",
        "Prosedur pelatihan pada praktikum 2 merupakan prosedur sederhana, yang tidak memberi Anda banyak kendali. Model ini menggunakan \"teacher-forcing\" yang mencegah prediksi buruk diumpankan kembali ke model, sehingga model tidak pernah belajar untuk pulih dari kesalahan. Jadi, setelah Anda melihat cara menjalankan model secara manual, selanjutnya Anda akan mengimplementasikan custom loop pelatihan. Hal ini memberikan titik awal jika, misalnya, Anda ingin menerapkan pembelajaran kurikulum untuk membantu menstabilkan keluaran open-loop model. Bagian terpenting dari loop pelatihan khusus adalah fungsi langkah pelatihan.\n",
        "\n",
        "Gunakan tf.GradientTape untuk men track nilai gradient. Anda dapat mempelajari lebih lanjut tentang pendekatan ini dengan membaca eager execution guide.\n",
        "\n",
        "Prosedurnya adalah \"\n",
        "1. Jalankan Model dan hitung loss dengan tf.GradientTape.\n",
        "2. Hitung update dan terapkan pada model dengan optimizer"
      ],
      "metadata": {
        "id": "AWZwCvEyS97k"
      }
    },
    {
      "cell_type": "code",
      "source": [
        "class CustomTraining(MyModel):\n",
        "     @tf.function\n",
        "     def train_step(self, inputs):\n",
        "        inputs, labels = inputs\n",
        "        with tf.GradientTape() as tape:\n",
        "            predictions = self(inputs, training=True)\n",
        "            loss = self.loss(labels, predictions)\n",
        "            grads = tape.gradient(loss, model.trainable_variables)\n",
        "            self.optimizer.apply_gradients(zip(grads, model.trainable_variables))\n",
        "\n",
        "            return {'loss': loss}"
      ],
      "metadata": {
        "id": "JtyeHsjUTuzk"
      },
      "execution_count": null,
      "outputs": []
    },
    {
      "cell_type": "markdown",
      "source": [
        "Kode diatas menerapkan train_step method sesuai dengan  Keras' train_step conventions. Ini opsional, tetapi memungkinkan Anda mengubah perilaku langkah pelatihan dan tetap menggunakan keras Model.compile and Model.fit methods."
      ],
      "metadata": {
        "id": "IpG7NPSYT99f"
      }
    },
    {
      "cell_type": "code",
      "source": [
        "model = CustomTraining(\n",
        "    vocab_size=len(ids_from_chars.get_vocabulary()),\n",
        "    embedding_dim=embedding_dim,\n",
        "    rnn_units=rnn_units)"
      ],
      "metadata": {
        "id": "5YxNL5vyT-wM"
      },
      "execution_count": null,
      "outputs": []
    },
    {
      "cell_type": "code",
      "source": [
        "model.compile(optimizer = tf.keras.optimizers.Adam(),\n",
        "              loss=tf.keras.losses.SparseCategoricalCrossentropy(from_logits=True))"
      ],
      "metadata": {
        "id": "gWs1bha-UDDu"
      },
      "execution_count": null,
      "outputs": []
    },
    {
      "cell_type": "code",
      "source": [
        "model.fit(dataset, epochs=1)"
      ],
      "metadata": {
        "colab": {
          "base_uri": "https://localhost:8080/"
        },
        "id": "_AgtWGgKUFuE",
        "outputId": "5dcf35ff-f4ba-424b-e7bb-212b163812f6"
      },
      "execution_count": null,
      "outputs": [
        {
          "output_type": "stream",
          "name": "stdout",
          "text": [
            "172/172 [==============================] - 16s 62ms/step - loss: 2.7014\n"
          ]
        },
        {
          "output_type": "execute_result",
          "data": {
            "text/plain": [
              "<keras.src.callbacks.History at 0x7ce411058d90>"
            ]
          },
          "metadata": {},
          "execution_count": 55
        }
      ]
    },
    {
      "cell_type": "markdown",
      "source": [
        "Atau jika ingin lebih mengetahui dalamnya, kita bisa membuat custom training loop sendiri:"
      ],
      "metadata": {
        "id": "G8o8v5dHUKMK"
      }
    },
    {
      "cell_type": "code",
      "source": [
        "EPOCHS = 10\n",
        "\n",
        "mean = tf.metrics.Mean()\n",
        "\n",
        "for epoch in range(EPOCHS):\n",
        "    start = time.time()\n",
        "\n",
        "    mean.reset_states()\n",
        "    for (batch_n, (inp, target)) in enumerate(dataset):\n",
        "        logs = model.train_step([inp, target])\n",
        "        mean.update_state(logs['loss'])\n",
        "\n",
        "        if batch_n % 50 == 0:\n",
        "            template = f\"Epoch {epoch+1} Batch {batch_n} Loss {logs['loss']:.4f}\"\n",
        "            print(template)\n",
        "\n",
        "# saving (checkpoint) the model every 5 epochs\n",
        "    if (epoch + 1) % 5 == 0:\n",
        "        model.save_weights(checkpoint_prefix.format(epoch=epoch))\n",
        "\n",
        "print()\n",
        "print(f'Epoch {epoch+1} Loss: {mean.result().numpy():.4f}')\n",
        "print(f'Time taken for 1 epoch {time.time() - start:.2f} sec')\n",
        "print(\"_\"*80)\n",
        "\n",
        "model.save_weights(checkpoint_prefix.format(epoch=epoch))"
      ],
      "metadata": {
        "colab": {
          "base_uri": "https://localhost:8080/"
        },
        "id": "YbOiBHGcUKxl",
        "outputId": "98be6483-ecd3-4ed6-cedf-28f50199d213"
      },
      "execution_count": null,
      "outputs": [
        {
          "output_type": "stream",
          "name": "stdout",
          "text": [
            "Epoch 1 Batch 0 Loss 2.1580\n",
            "Epoch 1 Batch 50 Loss 2.0314\n",
            "Epoch 1 Batch 100 Loss 1.9491\n",
            "Epoch 1 Batch 150 Loss 1.8555\n",
            "Epoch 2 Batch 0 Loss 1.7654\n",
            "Epoch 2 Batch 50 Loss 1.7071\n",
            "Epoch 2 Batch 100 Loss 1.6567\n",
            "Epoch 2 Batch 150 Loss 1.6012\n",
            "Epoch 3 Batch 0 Loss 1.5819\n",
            "Epoch 3 Batch 50 Loss 1.5704\n",
            "Epoch 3 Batch 100 Loss 1.4955\n",
            "Epoch 3 Batch 150 Loss 1.4940\n",
            "Epoch 4 Batch 0 Loss 1.4485\n",
            "Epoch 4 Batch 50 Loss 1.4247\n",
            "Epoch 4 Batch 100 Loss 1.4108\n",
            "Epoch 4 Batch 150 Loss 1.4271\n",
            "Epoch 5 Batch 0 Loss 1.3879\n",
            "Epoch 5 Batch 50 Loss 1.3690\n",
            "Epoch 5 Batch 100 Loss 1.4149\n",
            "Epoch 5 Batch 150 Loss 1.3237\n",
            "Epoch 6 Batch 0 Loss 1.2949\n",
            "Epoch 6 Batch 50 Loss 1.2674\n",
            "Epoch 6 Batch 100 Loss 1.3264\n",
            "Epoch 6 Batch 150 Loss 1.3338\n",
            "Epoch 7 Batch 0 Loss 1.2629\n",
            "Epoch 7 Batch 50 Loss 1.2851\n",
            "Epoch 7 Batch 100 Loss 1.2783\n",
            "Epoch 7 Batch 150 Loss 1.3044\n",
            "Epoch 8 Batch 0 Loss 1.2545\n",
            "Epoch 8 Batch 50 Loss 1.2302\n",
            "Epoch 8 Batch 100 Loss 1.2378\n",
            "Epoch 8 Batch 150 Loss 1.2730\n",
            "Epoch 9 Batch 0 Loss 1.1521\n",
            "Epoch 9 Batch 50 Loss 1.1640\n",
            "Epoch 9 Batch 100 Loss 1.1978\n",
            "Epoch 9 Batch 150 Loss 1.2295\n",
            "Epoch 10 Batch 0 Loss 1.1400\n",
            "Epoch 10 Batch 50 Loss 1.1596\n",
            "Epoch 10 Batch 100 Loss 1.1437\n",
            "Epoch 10 Batch 150 Loss 1.1555\n",
            "\n",
            "Epoch 10 Loss: 1.1569\n",
            "Time taken for 1 epoch 12.47 sec\n",
            "________________________________________________________________________________\n"
          ]
        }
      ]
    },
    {
      "cell_type": "markdown",
      "source": [
        "**<h4>PERBEDAAN ANTARA PRAKTIKUM 2 DAN TUGAS<h4>**\n",
        "\n",
        "1. Perbedaan pertama adalah waktu karena pada praktikum 2 menggunakan ephocs yang lebih banyak sehingga waktu runtime lebih lama dibanding tugas\n",
        "2. Pada praktikum menggunakan function yang telah disediakan oleh library tensorflow, sedangkan pada tugas menggunakan perulangan dan tf.GradientTape yang memungkinkan kita untuk lebih fleksibel pada penggunaan"
      ],
      "metadata": {
        "id": "ZZm2o7UEmCXH"
      }
    }
  ]
}