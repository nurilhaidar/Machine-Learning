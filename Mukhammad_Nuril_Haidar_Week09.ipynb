{
  "nbformat": 4,
  "nbformat_minor": 0,
  "metadata": {
    "colab": {
      "provenance": [],
      "authorship_tag": "ABX9TyOyGlh2q0RxBETZkkl8f/38",
      "include_colab_link": true
    },
    "kernelspec": {
      "name": "python3",
      "display_name": "Python 3"
    },
    "language_info": {
      "name": "python"
    }
  },
  "cells": [
    {
      "cell_type": "markdown",
      "metadata": {
        "id": "view-in-github",
        "colab_type": "text"
      },
      "source": [
        "<a href=\"https://colab.research.google.com/github/nurilhaidar/Machine-Learning/blob/main/Mukhammad_Nuril_Haidar_Week09.ipynb\" target=\"_parent\"><img src=\"https://colab.research.google.com/assets/colab-badge.svg\" alt=\"Open In Colab\"/></a>"
      ]
    },
    {
      "cell_type": "markdown",
      "source": [
        "<h2>TUGAS WEEK 09<h2>"
      ],
      "metadata": {
        "id": "aHNf1hFV5-OT"
      }
    },
    {
      "cell_type": "code",
      "source": [
        "import pandas as pd\n",
        "import numpy as np\n",
        "import matplotlib.pyplot as plt"
      ],
      "metadata": {
        "id": "KtthCrtLu_9g"
      },
      "execution_count": 42,
      "outputs": []
    },
    {
      "cell_type": "code",
      "execution_count": 43,
      "metadata": {
        "colab": {
          "base_uri": "https://localhost:8080/"
        },
        "id": "nIbhjOSltNKQ",
        "outputId": "76acb43e-df70-4392-b3fb-501c7742a25a"
      },
      "outputs": [
        {
          "output_type": "stream",
          "name": "stderr",
          "text": [
            "/usr/local/lib/python3.10/dist-packages/sklearn/datasets/_openml.py:968: FutureWarning: The default value of `parser` will change from `'liac-arff'` to `'auto'` in 1.4. You can set `parser='auto'` to silence this warning. Therefore, an `ImportError` will be raised from 1.4 if the dataset is dense and pandas is not installed. Note that the pandas parser may return different data types. See the Notes Section in fetch_openml's API doc for details.\n",
            "  warn(\n"
          ]
        }
      ],
      "source": [
        "from sklearn.datasets import fetch_openml\n",
        "\n",
        "# Memuat dataset MNIST\n",
        "mnist = fetch_openml(\"mnist_784\", version=1, as_frame=False)"
      ]
    },
    {
      "cell_type": "code",
      "source": [
        "X = mnist.data\n",
        "y = mnist.target.astype(int)"
      ],
      "metadata": {
        "id": "7wovRo2Au-bu"
      },
      "execution_count": 44,
      "outputs": []
    },
    {
      "cell_type": "code",
      "source": [
        "from sklearn.model_selection import train_test_split\n",
        "X_train, X_test, y_train, y_test = train_test_split(X, y, test_size = 0.2, random_state = 0)"
      ],
      "metadata": {
        "id": "VKNZnuzEvYWs"
      },
      "execution_count": 45,
      "outputs": []
    },
    {
      "cell_type": "code",
      "source": [
        "from sklearn.preprocessing import StandardScaler\n",
        "sc = StandardScaler()\n",
        "X_train = sc.fit_transform(X_train)\n",
        "X_test = sc.transform(X_test)"
      ],
      "metadata": {
        "id": "GU0YkNF1vhlU"
      },
      "execution_count": 46,
      "outputs": []
    },
    {
      "cell_type": "code",
      "source": [
        "from keras.api._v2.keras.layers import Dense\n",
        "import tensorflow as tf\n",
        "ann = tf.keras.models.Sequential()\n",
        "ann.add(tf.keras.layers.Dense(units=256, activation='relu'))\n",
        "ann.add(tf.keras.layers.Dense(units=10, activation='softmax'))"
      ],
      "metadata": {
        "id": "-9PmrCvZv1Q9"
      },
      "execution_count": 55,
      "outputs": []
    },
    {
      "cell_type": "code",
      "source": [
        "ann.compile(optimizer='adam', loss='sparse_categorical_crossentropy', metrics=['accuracy'])"
      ],
      "metadata": {
        "id": "pn2JqzxVwCjx"
      },
      "execution_count": 51,
      "outputs": []
    },
    {
      "cell_type": "code",
      "source": [
        "ann.fit(X_train, y_train, batch_size = 100, epochs = 10)"
      ],
      "metadata": {
        "colab": {
          "base_uri": "https://localhost:8080/"
        },
        "id": "Ip7q5fK-wJQb",
        "outputId": "6377c26d-4988-4151-a2d3-d0ed1af2e451"
      },
      "execution_count": 52,
      "outputs": [
        {
          "output_type": "stream",
          "name": "stdout",
          "text": [
            "Epoch 1/10\n",
            "560/560 [==============================] - 4s 6ms/step - loss: 0.2509 - accuracy: 0.9293\n",
            "Epoch 2/10\n",
            "560/560 [==============================] - 4s 7ms/step - loss: 0.0980 - accuracy: 0.9720\n",
            "Epoch 3/10\n",
            "560/560 [==============================] - 4s 7ms/step - loss: 0.0632 - accuracy: 0.9818\n",
            "Epoch 4/10\n",
            "560/560 [==============================] - 3s 6ms/step - loss: 0.0423 - accuracy: 0.9876\n",
            "Epoch 5/10\n",
            "560/560 [==============================] - 3s 6ms/step - loss: 0.0273 - accuracy: 0.9917\n",
            "Epoch 6/10\n",
            "560/560 [==============================] - 4s 8ms/step - loss: 0.0209 - accuracy: 0.9939\n",
            "Epoch 7/10\n",
            "560/560 [==============================] - 3s 6ms/step - loss: 0.0173 - accuracy: 0.9953\n",
            "Epoch 8/10\n",
            "560/560 [==============================] - 3s 6ms/step - loss: 0.0172 - accuracy: 0.9962\n",
            "Epoch 9/10\n",
            "560/560 [==============================] - 4s 7ms/step - loss: 0.0188 - accuracy: 0.9943\n",
            "Epoch 10/10\n",
            "560/560 [==============================] - 4s 7ms/step - loss: 0.0165 - accuracy: 0.9954\n"
          ]
        },
        {
          "output_type": "execute_result",
          "data": {
            "text/plain": [
              "<keras.src.callbacks.History at 0x7a6bd30058d0>"
            ]
          },
          "metadata": {},
          "execution_count": 52
        }
      ]
    },
    {
      "cell_type": "code",
      "source": [
        "loss, accuracy  = ann.evaluate(X_test, y_test, verbose=False)\n",
        "print(f'Akurasi : {accuracy}')"
      ],
      "metadata": {
        "colab": {
          "base_uri": "https://localhost:8080/"
        },
        "id": "dK6UedTE6JlD",
        "outputId": "b5447a48-f4e4-4893-8c75-cb72a076dae2"
      },
      "execution_count": 53,
      "outputs": [
        {
          "output_type": "stream",
          "name": "stdout",
          "text": [
            "Akurasi : 0.9701428413391113\n"
          ]
        }
      ]
    },
    {
      "cell_type": "code",
      "source": [
        "from sklearn.metrics import accuracy_score, classification_report\n",
        "# Pilih beberapa contoh citra dari data pengujian\n",
        "num_samples = 5  # Ganti jumlah contoh yang ingin ditampilkan sesuai kebutuhan\n",
        "\n",
        "# Membuat layout subplot horizontal\n",
        "fig, axs = plt.subplots(1, num_samples, figsize=(15, 4))\n",
        "\n",
        "for i in range(num_samples):\n",
        "    sample_index = np.random.randint(len(X_test))\n",
        "    sample_image = X_test[sample_index]\n",
        "    true_label = y_test[sample_index]\n",
        "\n",
        "    # Prediksi dengan model yang telah disiapkan (model neural network)\n",
        "    prediction = ann.predict(np.array([sample_image]))\n",
        "\n",
        "    # Label prediksi adalah indeks dengan nilai maksimum dari output\n",
        "    predicted_label = np.argmax(prediction)\n",
        "\n",
        "    # Menampilkan citra pengujian dan hasil prediksi\n",
        "    axs[i].imshow(np.reshape(sample_image, (28, 28)), cmap='gray')\n",
        "    axs[i].set_title(f\"Label Asli: {true_label}\\nLabel Prediksi: {predicted_label}\")\n",
        "    axs[i].axis('off')\n",
        "\n",
        "plt.show()"
      ],
      "metadata": {
        "colab": {
          "base_uri": "https://localhost:8080/",
          "height": 362
        },
        "id": "aSuO3Cojw2GB",
        "outputId": "f1a0db26-cf2e-4f88-8b15-0103edeabb09"
      },
      "execution_count": 54,
      "outputs": [
        {
          "output_type": "stream",
          "name": "stdout",
          "text": [
            "1/1 [==============================] - 0s 59ms/step\n",
            "1/1 [==============================] - 0s 23ms/step\n",
            "1/1 [==============================] - 0s 55ms/step\n",
            "1/1 [==============================] - 0s 38ms/step\n",
            "1/1 [==============================] - 0s 34ms/step\n"
          ]
        },
        {
          "output_type": "display_data",
          "data": {
            "text/plain": [
              "<Figure size 1500x400 with 5 Axes>"
            ],
            "image/png": "[encoded data removed]"
          },
          "metadata": {}
        }
      ]
    },
    {
      "cell_type": "code",
      "source": [],
      "metadata": {
        "id": "r5przH2o6zvi"
      },
      "execution_count": null,
      "outputs": []
    }
  ]
}