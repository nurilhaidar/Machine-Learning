{
  "nbformat": 4,
  "nbformat_minor": 0,
  "metadata": {
    "colab": {
      "provenance": [],
      "authorship_tag": "ABX9TyMn4fjep7ItvA4/hpPCUj5z",
      "include_colab_link": true
    },
    "kernelspec": {
      "name": "python3",
      "display_name": "Python 3"
    },
    "language_info": {
      "name": "python"
    }
  },
  "cells": [
    {
      "cell_type": "markdown",
      "metadata": {
        "id": "view-in-github",
        "colab_type": "text"
      },
      "source": [
        "<a href=\"https://colab.research.google.com/github/nurilhaidar/Machine-Learning/blob/main/Mukhammad_Nuril_Haidar_Week11.ipynb\" target=\"_parent\"><img src=\"https://colab.research.google.com/assets/colab-badge.svg\" alt=\"Open In Colab\"/></a>"
      ]
    },
    {
      "cell_type": "markdown",
      "source": [
        "**<h1>TUGAS 1<h1>**"
      ],
      "metadata": {
        "id": "Fmac4xpHA0FO"
      }
    },
    {
      "cell_type": "code",
      "execution_count": 11,
      "metadata": {
        "id": "hCzS4VU2AuLY"
      },
      "outputs": [],
      "source": [
        "import tensorflow as tf\n",
        "\n",
        "from tensorflow.keras import datasets, layers, models\n",
        "import matplotlib.pyplot as plt"
      ]
    },
    {
      "cell_type": "code",
      "source": [
        "(train_images, train_labels), (test_images, test_labels) = datasets.cifar10.load_data()\n",
        "\n",
        "# Normalize pixel values to be between 0 and 1\n",
        "train_images, test_images = train_images / 255.0, test_images / 255.0"
      ],
      "metadata": {
        "id": "5NoqaoH7bZcb"
      },
      "execution_count": 12,
      "outputs": []
    },
    {
      "cell_type": "code",
      "source": [
        "model = models.Sequential()\n",
        "model.add(layers.Conv2D(32, (3, 3), activation='relu', input_shape=(32, 32, 3)))\n",
        "model.add(layers.MaxPooling2D((2, 2)))\n",
        "model.add(layers.Conv2D(64, (3, 3), activation='relu'))\n",
        "model.add(layers.MaxPooling2D((2, 2)))\n",
        "model.add(layers.Conv2D(128, (3, 3), activation='relu'))\n",
        "model.add(layers.MaxPooling2D((2, 2)))"
      ],
      "metadata": {
        "id": "tz-f-ceyb8TO"
      },
      "execution_count": 14,
      "outputs": []
    },
    {
      "cell_type": "code",
      "source": [
        "model.add(layers.Flatten())\n",
        "model.add(layers.Dense(128, activation='relu'))\n",
        "model.add(layers.Dropout(0.5))\n",
        "model.add(layers.Dense(10, activation='softmax'))"
      ],
      "metadata": {
        "id": "rgj2r9zJcBIY"
      },
      "execution_count": 15,
      "outputs": []
    },
    {
      "cell_type": "code",
      "source": [
        "model.compile(optimizer='adam', loss='sparse_categorical_crossentropy', metrics=['accuracy'])"
      ],
      "metadata": {
        "id": "wXgh3-bncHeK"
      },
      "execution_count": 17,
      "outputs": []
    },
    {
      "cell_type": "code",
      "source": [
        "history = model.fit(train_images, train_labels, epochs=20, validation_data=(test_images, test_labels))"
      ],
      "metadata": {
        "colab": {
          "base_uri": "https://localhost:8080/"
        },
        "id": "aVUJfKNycP2r",
        "outputId": "31e951a6-118f-448c-9b68-b28a6991cde8"
      },
      "execution_count": 22,
      "outputs": [
        {
          "output_type": "stream",
          "name": "stdout",
          "text": [
            "Epoch 1/20\n",
            "1563/1563 [==============================] - 86s 55ms/step - loss: 0.6168 - accuracy: 0.7853 - val_loss: 0.8450 - val_accuracy: 0.7233\n",
            "Epoch 2/20\n",
            "1563/1563 [==============================] - 80s 51ms/step - loss: 0.5873 - accuracy: 0.7921 - val_loss: 0.8739 - val_accuracy: 0.7239\n",
            "Epoch 3/20\n",
            "1563/1563 [==============================] - 85s 55ms/step - loss: 0.5706 - accuracy: 0.8013 - val_loss: 0.8590 - val_accuracy: 0.7194\n",
            "Epoch 4/20\n",
            "1563/1563 [==============================] - 80s 51ms/step - loss: 0.5434 - accuracy: 0.8070 - val_loss: 1.0056 - val_accuracy: 0.7116\n",
            "Epoch 5/20\n",
            "1563/1563 [==============================] - 81s 52ms/step - loss: 0.5225 - accuracy: 0.8153 - val_loss: 0.9149 - val_accuracy: 0.7203\n",
            "Epoch 6/20\n",
            "1563/1563 [==============================] - 80s 51ms/step - loss: 0.5072 - accuracy: 0.8216 - val_loss: 0.9081 - val_accuracy: 0.7188\n",
            "Epoch 7/20\n",
            "1563/1563 [==============================] - 80s 51ms/step - loss: 0.4803 - accuracy: 0.8289 - val_loss: 0.9275 - val_accuracy: 0.7249\n",
            "Epoch 8/20\n",
            "1563/1563 [==============================] - 87s 55ms/step - loss: 0.4661 - accuracy: 0.8340 - val_loss: 0.9853 - val_accuracy: 0.7195\n",
            "Epoch 9/20\n",
            "1563/1563 [==============================] - 80s 51ms/step - loss: 0.4590 - accuracy: 0.8360 - val_loss: 1.0039 - val_accuracy: 0.7200\n",
            "Epoch 10/20\n",
            "1563/1563 [==============================] - 80s 51ms/step - loss: 0.4400 - accuracy: 0.8420 - val_loss: 1.0295 - val_accuracy: 0.7102\n",
            "Epoch 11/20\n",
            "1563/1563 [==============================] - 81s 52ms/step - loss: 0.4339 - accuracy: 0.8437 - val_loss: 1.0105 - val_accuracy: 0.7178\n",
            "Epoch 12/20\n",
            "1563/1563 [==============================] - 80s 51ms/step - loss: 0.4209 - accuracy: 0.8505 - val_loss: 1.0819 - val_accuracy: 0.7139\n",
            "Epoch 13/20\n",
            "1563/1563 [==============================] - 79s 51ms/step - loss: 0.4081 - accuracy: 0.8539 - val_loss: 1.0406 - val_accuracy: 0.7134\n",
            "Epoch 14/20\n",
            "1563/1563 [==============================] - 80s 51ms/step - loss: 0.4000 - accuracy: 0.8575 - val_loss: 1.0831 - val_accuracy: 0.7150\n",
            "Epoch 15/20\n",
            "1563/1563 [==============================] - 79s 51ms/step - loss: 0.3869 - accuracy: 0.8619 - val_loss: 1.0884 - val_accuracy: 0.7238\n",
            "Epoch 16/20\n",
            "1563/1563 [==============================] - 81s 52ms/step - loss: 0.3763 - accuracy: 0.8641 - val_loss: 1.0843 - val_accuracy: 0.7257\n",
            "Epoch 17/20\n",
            "1563/1563 [==============================] - 80s 51ms/step - loss: 0.3641 - accuracy: 0.8680 - val_loss: 1.1628 - val_accuracy: 0.7204\n",
            "Epoch 18/20\n",
            "1563/1563 [==============================] - 80s 51ms/step - loss: 0.3587 - accuracy: 0.8710 - val_loss: 1.1847 - val_accuracy: 0.7130\n",
            "Epoch 19/20\n",
            "1563/1563 [==============================] - 80s 51ms/step - loss: 0.3504 - accuracy: 0.8735 - val_loss: 1.1313 - val_accuracy: 0.7206\n",
            "Epoch 20/20\n",
            "1563/1563 [==============================] - 79s 51ms/step - loss: 0.3441 - accuracy: 0.8759 - val_loss: 1.2069 - val_accuracy: 0.7203\n"
          ]
        }
      ]
    },
    {
      "cell_type": "code",
      "source": [
        "plt.plot(history.history['accuracy'], label='accuracy')\n",
        "plt.plot(history.history['val_accuracy'], label = 'val_accuracy')\n",
        "plt.xlabel('Epoch')\n",
        "plt.ylabel('Accuracy')\n",
        "plt.ylim([0.5, 1])\n",
        "plt.legend(loc='lower right')\n",
        "\n",
        "test_loss, test_acc = model.evaluate(test_images, test_labels, verbose=2)"
      ],
      "metadata": {
        "colab": {
          "base_uri": "https://localhost:8080/",
          "height": 472
        },
        "id": "sYQlJCMgcTXS",
        "outputId": "8f63c703-f5ee-4851-bce9-142e14c21df6"
      },
      "execution_count": 23,
      "outputs": [
        {
          "output_type": "stream",
          "name": "stdout",
          "text": [
            "313/313 - 5s - loss: 1.2069 - accuracy: 0.7203 - 5s/epoch - 16ms/step\n"
          ]
        },
        {
          "output_type": "display_data",
          "data": {
            "text/plain": [
              "<Figure size 640x480 with 1 Axes>"
            ],
            "image/png": "[encoded data removed]"
          },
          "metadata": {}
        }
      ]
    },
    {
      "cell_type": "code",
      "source": [
        "print(test_acc)"
      ],
      "metadata": {
        "colab": {
          "base_uri": "https://localhost:8080/"
        },
        "id": "G45l_Qn-g7MU",
        "outputId": "de4a1651-dbeb-462b-9aa7-d83d625849eb"
      },
      "execution_count": 24,
      "outputs": [
        {
          "output_type": "stream",
          "name": "stdout",
          "text": [
            "0.720300018787384\n"
          ]
        }
      ]
    },
    {
      "cell_type": "markdown",
      "source": [
        "**<h1>TUGAS 2<h1>**"
      ],
      "metadata": {
        "id": "h8lB-bve3OuD"
      }
    },
    {
      "cell_type": "code",
      "source": [
        "(train_images, train_labels), (test_images, test_labels) = datasets.mnist.load_data()"
      ],
      "metadata": {
        "colab": {
          "base_uri": "https://localhost:8080/"
        },
        "id": "eUXlAc2w3VlZ",
        "outputId": "002d9a37-5e4c-4380-f488-728f21466165"
      },
      "execution_count": 25,
      "outputs": [
        {
          "output_type": "stream",
          "name": "stdout",
          "text": [
            "Downloading data from https://storage.googleapis.com/tensorflow/tf-keras-datasets/mnist.npz\n",
            "11490434/11490434 [==============================] - 1s 0us/step\n"
          ]
        }
      ]
    },
    {
      "cell_type": "code",
      "source": [
        "train_images, test_images = train_images / 255.0, test_images / 255.0"
      ],
      "metadata": {
        "id": "OhJ-Jw6m3XTP"
      },
      "execution_count": 26,
      "outputs": []
    },
    {
      "cell_type": "code",
      "source": [
        "model = models.Sequential()\n",
        "model.add(layers.Conv2D(32, (3, 3), activation='relu', input_shape=(28, 28, 1)))\n",
        "model.add(layers.MaxPooling2D((2, 2)))\n",
        "model.add(layers.Conv2D(64, (3, 3), activation='relu'))\n",
        "model.add(layers.MaxPooling2D((2, 2)))\n",
        "model.add(layers.Conv2D(64, (3, 3), activation='relu'))"
      ],
      "metadata": {
        "id": "oAVddsUT3hhN"
      },
      "execution_count": 27,
      "outputs": []
    },
    {
      "cell_type": "code",
      "source": [
        "model.add(layers.Flatten())\n",
        "model.add(layers.Dense(64, activation='relu'))\n",
        "model.add(layers.Dense(10, activation='softmax'))"
      ],
      "metadata": {
        "id": "Lq05I3Ao3iQZ"
      },
      "execution_count": 28,
      "outputs": []
    },
    {
      "cell_type": "code",
      "source": [
        "model.compile(optimizer='adam', loss='sparse_categorical_crossentropy', metrics=['accuracy'])"
      ],
      "metadata": {
        "id": "U39rkdi93kYs"
      },
      "execution_count": 29,
      "outputs": []
    },
    {
      "cell_type": "code",
      "source": [
        "history = model.fit(train_images, train_labels, epochs=5, validation_data=(test_images, test_labels))"
      ],
      "metadata": {
        "colab": {
          "base_uri": "https://localhost:8080/"
        },
        "id": "_w7QU_Oi3oBH",
        "outputId": "4b844418-4999-480c-838d-db8c8b36cf34"
      },
      "execution_count": 30,
      "outputs": [
        {
          "output_type": "stream",
          "name": "stdout",
          "text": [
            "Epoch 1/5\n",
            "1875/1875 [==============================] - 70s 37ms/step - loss: 0.1448 - accuracy: 0.9550 - val_loss: 0.0611 - val_accuracy: 0.9800\n",
            "Epoch 2/5\n",
            "1875/1875 [==============================] - 66s 35ms/step - loss: 0.0488 - accuracy: 0.9846 - val_loss: 0.0325 - val_accuracy: 0.9890\n",
            "Epoch 3/5\n",
            "1875/1875 [==============================] - 63s 34ms/step - loss: 0.0336 - accuracy: 0.9895 - val_loss: 0.0352 - val_accuracy: 0.9882\n",
            "Epoch 4/5\n",
            "1875/1875 [==============================] - 65s 35ms/step - loss: 0.0264 - accuracy: 0.9919 - val_loss: 0.0333 - val_accuracy: 0.9889\n",
            "Epoch 5/5\n",
            "1875/1875 [==============================] - 64s 34ms/step - loss: 0.0195 - accuracy: 0.9936 - val_loss: 0.0326 - val_accuracy: 0.9900\n"
          ]
        }
      ]
    },
    {
      "cell_type": "code",
      "source": [
        "plt.plot(history.history['accuracy'], label='accuracy')\n",
        "plt.plot(history.history['val_accuracy'], label='val_accuracy')\n",
        "plt.xlabel('Epoch')\n",
        "plt.ylabel('Accuracy')\n",
        "plt.ylim([0, 1])\n",
        "plt.legend(loc='lower right')\n",
        "plt.show()\n",
        "\n",
        "test_loss, test_acc = model.evaluate(test_images,  test_labels, verbose=2)"
      ],
      "metadata": {
        "colab": {
          "base_uri": "https://localhost:8080/",
          "height": 472
        },
        "id": "PkRTtbQT5IrF",
        "outputId": "362d4f9c-0a48-46e5-aaf5-3f9ea023675c"
      },
      "execution_count": 32,
      "outputs": [
        {
          "output_type": "display_data",
          "data": {
            "text/plain": [
              "<Figure size 640x480 with 1 Axes>"
            ],
            "image/png": "[encoded data removed]"
          },
          "metadata": {}
        },
        {
          "output_type": "stream",
          "name": "stdout",
          "text": [
            "313/313 - 3s - loss: 0.0326 - accuracy: 0.9900 - 3s/epoch - 11ms/step\n"
          ]
        }
      ]
    },
    {
      "cell_type": "code",
      "source": [
        "print(f\"Test accuracy: {test_acc}\")"
      ],
      "metadata": {
        "colab": {
          "base_uri": "https://localhost:8080/"
        },
        "id": "wBzVbbeB5OwS",
        "outputId": "241a014e-612a-466c-d8a8-508431315056"
      },
      "execution_count": 33,
      "outputs": [
        {
          "output_type": "stream",
          "name": "stdout",
          "text": [
            "Test accuracy: 0.9900000095367432\n"
          ]
        }
      ]
    }
  ]
}