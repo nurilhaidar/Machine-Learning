{
  "nbformat": 4,
  "nbformat_minor": 0,
  "metadata": {
    "colab": {
      "provenance": [],
      "gpuType": "T4",
      "authorship_tag": "ABX9TyND6Q7fYN3GknAPkRNGZ0l1",
      "include_colab_link": true
    },
    "kernelspec": {
      "name": "python3",
      "display_name": "Python 3"
    },
    "language_info": {
      "name": "python"
    },
    "accelerator": "GPU"
  },
  "cells": [
    {
      "cell_type": "markdown",
      "metadata": {
        "id": "view-in-github",
        "colab_type": "text"
      },
      "source": [
        "<a href=\"https://colab.research.google.com/github/nurilhaidar/Machine-Learning/blob/main/Mukhammad_Nuril_Haidar_Week11.ipynb\" target=\"_parent\"><img src=\"https://colab.research.google.com/assets/colab-badge.svg\" alt=\"Open In Colab\"/></a>"
      ]
    },
    {
      "cell_type": "markdown",
      "source": [
        "**<h1>TUGAS 1<h1>**"
      ],
      "metadata": {
        "id": "Fmac4xpHA0FO"
      }
    },
    {
      "cell_type": "code",
      "execution_count": null,
      "metadata": {
        "id": "hCzS4VU2AuLY"
      },
      "outputs": [],
      "source": [
        "import tensorflow as tf\n",
        "from tensorflow.keras import datasets, layers, models\n",
        "import matplotlib.pyplot as plt"
      ]
    },
    {
      "cell_type": "markdown",
      "source": [
        "1. Load dataset cifar10"
      ],
      "metadata": {
        "id": "bPQAaqYi5uB9"
      }
    },
    {
      "cell_type": "code",
      "source": [
        "(train_images, train_labels), (test_images, test_labels) = datasets.cifar10.load_data()"
      ],
      "metadata": {
        "id": "DaFQLwaY5xlU",
        "colab": {
          "base_uri": "https://localhost:8080/"
        },
        "outputId": "9335478b-2bf1-4641-9bc9-e3c953af2991"
      },
      "execution_count": null,
      "outputs": [
        {
          "output_type": "stream",
          "name": "stdout",
          "text": [
            "Downloading data from https://www.cs.toronto.edu/~kriz/cifar-10-python.tar.gz\n",
            "170498071/170498071 [==============================] - 4s 0us/step\n"
          ]
        }
      ]
    },
    {
      "cell_type": "markdown",
      "source": [
        "2. Normalisasi pixel menjadi 1 dan 0"
      ],
      "metadata": {
        "id": "0Jenarab6Hyi"
      }
    },
    {
      "cell_type": "code",
      "source": [
        "train_images, test_images = train_images / 255.0, test_images / 255.0"
      ],
      "metadata": {
        "id": "5NoqaoH7bZcb"
      },
      "execution_count": null,
      "outputs": []
    },
    {
      "cell_type": "markdown",
      "source": [
        "3. Membuat model CNN dan menambahkan layers pada model yang telah dibuat dan ditambahkan dropout untuk mengurangi 5% unit yang akan di proses"
      ],
      "metadata": {
        "id": "G3lmYXaJ6NhK"
      }
    },
    {
      "cell_type": "code",
      "source": [
        "model = models.Sequential()\n",
        "model.add(layers.Conv2D(32, (3, 3), activation='relu', input_shape=(32, 32, 3)))\n",
        "model.add(layers.BatchNormalization())\n",
        "model.add(layers.MaxPooling2D((2, 2)))\n",
        "model.add(layers.Dropout(0.25))\n",
        "model.add(layers.Conv2D(64, (3, 3), activation='relu'))\n",
        "model.add(layers.BatchNormalization())\n",
        "model.add(layers.MaxPooling2D((2, 2)))\n",
        "model.add(layers.Dropout(0.25))\n",
        "model.add(layers.Conv2D(128, (3, 3), activation='relu'))\n",
        "model.add(layers.BatchNormalization())\n",
        "model.add(layers.MaxPooling2D((2, 2)))\n",
        "model.add(layers.Dropout(0.25))"
      ],
      "metadata": {
        "id": "tz-f-ceyb8TO"
      },
      "execution_count": null,
      "outputs": []
    },
    {
      "cell_type": "markdown",
      "source": [
        "4. Menambahkan layer fully connected pada model"
      ],
      "metadata": {
        "id": "owwHkdqa7FML"
      }
    },
    {
      "cell_type": "code",
      "source": [
        "model.add(layers.Flatten())\n",
        "model.add(layers.Dense(256, activation='relu'))\n",
        "model.add(layers.BatchNormalization())\n",
        "model.add(layers.Dropout(0.5))\n",
        "model.add(layers.Dense(10, activation='softmax'))"
      ],
      "metadata": {
        "id": "rgj2r9zJcBIY"
      },
      "execution_count": null,
      "outputs": []
    },
    {
      "cell_type": "markdown",
      "source": [
        "5. Hasil model yang telah dibuat"
      ],
      "metadata": {
        "id": "Wu-iowP0Hr4w"
      }
    },
    {
      "cell_type": "code",
      "source": [
        "model.summary()"
      ],
      "metadata": {
        "colab": {
          "base_uri": "https://localhost:8080/"
        },
        "id": "6CyZdSvN8pA5",
        "outputId": "4235f5b0-9c2b-4333-81d3-bd26d76bd933"
      },
      "execution_count": null,
      "outputs": [
        {
          "output_type": "stream",
          "name": "stdout",
          "text": [
            "Model: \"sequential\"\n",
            "_________________________________________________________________\n",
            " Layer (type)                Output Shape              Param #   \n",
            "=================================================================\n",
            " conv2d (Conv2D)             (None, 30, 30, 32)        896       \n",
            "                                                                 \n",
            " batch_normalization (Batch  (None, 30, 30, 32)        128       \n",
            " Normalization)                                                  \n",
            "                                                                 \n",
            " max_pooling2d (MaxPooling2  (None, 15, 15, 32)        0         \n",
            " D)                                                              \n",
            "                                                                 \n",
            " dropout (Dropout)           (None, 15, 15, 32)        0         \n",
            "                                                                 \n",
            " conv2d_1 (Conv2D)           (None, 13, 13, 64)        18496     \n",
            "                                                                 \n",
            " batch_normalization_1 (Bat  (None, 13, 13, 64)        256       \n",
            " chNormalization)                                                \n",
            "                                                                 \n",
            " max_pooling2d_1 (MaxPoolin  (None, 6, 6, 64)          0         \n",
            " g2D)                                                            \n",
            "                                                                 \n",
            " dropout_1 (Dropout)         (None, 6, 6, 64)          0         \n",
            "                                                                 \n",
            " conv2d_2 (Conv2D)           (None, 4, 4, 128)         73856     \n",
            "                                                                 \n",
            " batch_normalization_2 (Bat  (None, 4, 4, 128)         512       \n",
            " chNormalization)                                                \n",
            "                                                                 \n",
            " max_pooling2d_2 (MaxPoolin  (None, 2, 2, 128)         0         \n",
            " g2D)                                                            \n",
            "                                                                 \n",
            " dropout_2 (Dropout)         (None, 2, 2, 128)         0         \n",
            "                                                                 \n",
            " flatten (Flatten)           (None, 512)               0         \n",
            "                                                                 \n",
            " dense (Dense)               (None, 256)               131328    \n",
            "                                                                 \n",
            " batch_normalization_3 (Bat  (None, 256)               1024      \n",
            " chNormalization)                                                \n",
            "                                                                 \n",
            " dropout_3 (Dropout)         (None, 256)               0         \n",
            "                                                                 \n",
            " dense_1 (Dense)             (None, 10)                2570      \n",
            "                                                                 \n",
            "=================================================================\n",
            "Total params: 229066 (894.79 KB)\n",
            "Trainable params: 228106 (891.04 KB)\n",
            "Non-trainable params: 960 (3.75 KB)\n",
            "_________________________________________________________________\n"
          ]
        }
      ]
    },
    {
      "cell_type": "markdown",
      "source": [
        "6. Mengcompile model CNN"
      ],
      "metadata": {
        "id": "bwWt2vGU7zaS"
      }
    },
    {
      "cell_type": "code",
      "source": [
        "model.compile(optimizer='adam', loss=tf.keras.losses.SparseCategoricalCrossentropy(from_logits=True), metrics=['accuracy'])"
      ],
      "metadata": {
        "id": "wXgh3-bncHeK"
      },
      "execution_count": null,
      "outputs": []
    },
    {
      "cell_type": "markdown",
      "source": [
        "7. Memasukkan data train ke dalam model"
      ],
      "metadata": {
        "id": "NvTEgI7C77zA"
      }
    },
    {
      "cell_type": "code",
      "source": [
        "history = model.fit(train_images, train_labels, epochs=100, validation_data=(test_images, test_labels), batch_size=32)"
      ],
      "metadata": {
        "colab": {
          "base_uri": "https://localhost:8080/"
        },
        "id": "aVUJfKNycP2r",
        "outputId": "53281ea8-e871-4328-943e-ca9588cf7640"
      },
      "execution_count": null,
      "outputs": [
        {
          "output_type": "stream",
          "name": "stdout",
          "text": [
            "Epoch 1/100\n",
            "1563/1563 [==============================] - 11s 7ms/step - loss: 0.8265 - accuracy: 0.7143 - val_loss: 0.8799 - val_accuracy: 0.6931\n",
            "Epoch 2/100\n",
            "1563/1563 [==============================] - 11s 7ms/step - loss: 0.8163 - accuracy: 0.7183 - val_loss: 0.7046 - val_accuracy: 0.7553\n",
            "Epoch 3/100\n",
            "1563/1563 [==============================] - 11s 7ms/step - loss: 0.7973 - accuracy: 0.7213 - val_loss: 0.7934 - val_accuracy: 0.7211\n",
            "Epoch 4/100\n",
            "1563/1563 [==============================] - 13s 8ms/step - loss: 0.7872 - accuracy: 0.7271 - val_loss: 0.7526 - val_accuracy: 0.7418\n",
            "Epoch 5/100\n",
            "1563/1563 [==============================] - 12s 7ms/step - loss: 0.7778 - accuracy: 0.7316 - val_loss: 0.6960 - val_accuracy: 0.7603\n",
            "Epoch 6/100\n",
            "1563/1563 [==============================] - 12s 7ms/step - loss: 0.7594 - accuracy: 0.7376 - val_loss: 0.7560 - val_accuracy: 0.7413\n",
            "Epoch 7/100\n",
            "1563/1563 [==============================] - 11s 7ms/step - loss: 0.7476 - accuracy: 0.7413 - val_loss: 0.6993 - val_accuracy: 0.7582\n",
            "Epoch 8/100\n",
            "1563/1563 [==============================] - 11s 7ms/step - loss: 0.7410 - accuracy: 0.7427 - val_loss: 0.7528 - val_accuracy: 0.7384\n",
            "Epoch 9/100\n",
            "1563/1563 [==============================] - 12s 7ms/step - loss: 0.7312 - accuracy: 0.7441 - val_loss: 0.7082 - val_accuracy: 0.7556\n",
            "Epoch 10/100\n",
            "1563/1563 [==============================] - 11s 7ms/step - loss: 0.7232 - accuracy: 0.7483 - val_loss: 0.7153 - val_accuracy: 0.7566\n",
            "Epoch 11/100\n",
            "1563/1563 [==============================] - 12s 7ms/step - loss: 0.7148 - accuracy: 0.7520 - val_loss: 0.7050 - val_accuracy: 0.7566\n",
            "Epoch 12/100\n",
            "1563/1563 [==============================] - 11s 7ms/step - loss: 0.7124 - accuracy: 0.7534 - val_loss: 0.8687 - val_accuracy: 0.7056\n",
            "Epoch 13/100\n",
            "1563/1563 [==============================] - 11s 7ms/step - loss: 0.7033 - accuracy: 0.7573 - val_loss: 0.6264 - val_accuracy: 0.7822\n",
            "Epoch 14/100\n",
            "1563/1563 [==============================] - 11s 7ms/step - loss: 0.6956 - accuracy: 0.7582 - val_loss: 0.6886 - val_accuracy: 0.7661\n",
            "Epoch 15/100\n",
            "1563/1563 [==============================] - 12s 7ms/step - loss: 0.6882 - accuracy: 0.7616 - val_loss: 0.6283 - val_accuracy: 0.7826\n",
            "Epoch 16/100\n",
            "1563/1563 [==============================] - 11s 7ms/step - loss: 0.6884 - accuracy: 0.7589 - val_loss: 0.6047 - val_accuracy: 0.7917\n",
            "Epoch 17/100\n",
            "1563/1563 [==============================] - 12s 7ms/step - loss: 0.6767 - accuracy: 0.7639 - val_loss: 0.6135 - val_accuracy: 0.7854\n",
            "Epoch 18/100\n",
            "1563/1563 [==============================] - 11s 7ms/step - loss: 0.6766 - accuracy: 0.7648 - val_loss: 0.6802 - val_accuracy: 0.7663\n",
            "Epoch 19/100\n",
            "1563/1563 [==============================] - 10s 7ms/step - loss: 0.6688 - accuracy: 0.7683 - val_loss: 0.6577 - val_accuracy: 0.7731\n",
            "Epoch 20/100\n",
            "1563/1563 [==============================] - 11s 7ms/step - loss: 0.6570 - accuracy: 0.7694 - val_loss: 0.6763 - val_accuracy: 0.7689\n",
            "Epoch 21/100\n",
            "1563/1563 [==============================] - 12s 7ms/step - loss: 0.6651 - accuracy: 0.7702 - val_loss: 0.7384 - val_accuracy: 0.7443\n",
            "Epoch 22/100\n",
            "1563/1563 [==============================] - 11s 7ms/step - loss: 0.6515 - accuracy: 0.7719 - val_loss: 0.6776 - val_accuracy: 0.7690\n",
            "Epoch 23/100\n",
            "1563/1563 [==============================] - 11s 7ms/step - loss: 0.6546 - accuracy: 0.7743 - val_loss: 0.7780 - val_accuracy: 0.7354\n",
            "Epoch 24/100\n",
            "1563/1563 [==============================] - 11s 7ms/step - loss: 0.6458 - accuracy: 0.7753 - val_loss: 0.6233 - val_accuracy: 0.7868\n",
            "Epoch 25/100\n",
            "1563/1563 [==============================] - 11s 7ms/step - loss: 0.6410 - accuracy: 0.7766 - val_loss: 0.6112 - val_accuracy: 0.7950\n",
            "Epoch 26/100\n",
            "1563/1563 [==============================] - 12s 8ms/step - loss: 0.6387 - accuracy: 0.7771 - val_loss: 0.7077 - val_accuracy: 0.7610\n",
            "Epoch 27/100\n",
            "1563/1563 [==============================] - 12s 7ms/step - loss: 0.6358 - accuracy: 0.7789 - val_loss: 0.6094 - val_accuracy: 0.7901\n",
            "Epoch 28/100\n",
            "1563/1563 [==============================] - 12s 7ms/step - loss: 0.6367 - accuracy: 0.7796 - val_loss: 0.5958 - val_accuracy: 0.7916\n",
            "Epoch 29/100\n",
            "1563/1563 [==============================] - 12s 7ms/step - loss: 0.6310 - accuracy: 0.7830 - val_loss: 0.6232 - val_accuracy: 0.7882\n",
            "Epoch 30/100\n",
            "1563/1563 [==============================] - 11s 7ms/step - loss: 0.6307 - accuracy: 0.7799 - val_loss: 0.6117 - val_accuracy: 0.7892\n",
            "Epoch 31/100\n",
            "1563/1563 [==============================] - 11s 7ms/step - loss: 0.6281 - accuracy: 0.7808 - val_loss: 0.5822 - val_accuracy: 0.8010\n",
            "Epoch 32/100\n",
            "1563/1563 [==============================] - 11s 7ms/step - loss: 0.6236 - accuracy: 0.7824 - val_loss: 0.6032 - val_accuracy: 0.7944\n",
            "Epoch 33/100\n",
            "1563/1563 [==============================] - 11s 7ms/step - loss: 0.6161 - accuracy: 0.7867 - val_loss: 0.6027 - val_accuracy: 0.7923\n",
            "Epoch 34/100\n",
            "1563/1563 [==============================] - 11s 7ms/step - loss: 0.6158 - accuracy: 0.7859 - val_loss: 0.5689 - val_accuracy: 0.8050\n",
            "Epoch 35/100\n",
            "1563/1563 [==============================] - 11s 7ms/step - loss: 0.6183 - accuracy: 0.7868 - val_loss: 0.5649 - val_accuracy: 0.8062\n",
            "Epoch 36/100\n",
            "1563/1563 [==============================] - 11s 7ms/step - loss: 0.6097 - accuracy: 0.7884 - val_loss: 0.7155 - val_accuracy: 0.7589\n",
            "Epoch 37/100\n",
            "1563/1563 [==============================] - 11s 7ms/step - loss: 0.6058 - accuracy: 0.7892 - val_loss: 0.6191 - val_accuracy: 0.7902\n",
            "Epoch 38/100\n",
            "1563/1563 [==============================] - 11s 7ms/step - loss: 0.6053 - accuracy: 0.7872 - val_loss: 0.6512 - val_accuracy: 0.7827\n",
            "Epoch 39/100\n",
            "1563/1563 [==============================] - 11s 7ms/step - loss: 0.6001 - accuracy: 0.7908 - val_loss: 0.7012 - val_accuracy: 0.7650\n",
            "Epoch 40/100\n",
            "1563/1563 [==============================] - 11s 7ms/step - loss: 0.5984 - accuracy: 0.7902 - val_loss: 0.6377 - val_accuracy: 0.7844\n",
            "Epoch 41/100\n",
            "1563/1563 [==============================] - 11s 7ms/step - loss: 0.6015 - accuracy: 0.7913 - val_loss: 0.6865 - val_accuracy: 0.7672\n",
            "Epoch 42/100\n",
            "1563/1563 [==============================] - 10s 7ms/step - loss: 0.5968 - accuracy: 0.7926 - val_loss: 0.6362 - val_accuracy: 0.7839\n",
            "Epoch 43/100\n",
            "1563/1563 [==============================] - 12s 7ms/step - loss: 0.5970 - accuracy: 0.7943 - val_loss: 0.6748 - val_accuracy: 0.7721\n",
            "Epoch 44/100\n",
            "1563/1563 [==============================] - 11s 7ms/step - loss: 0.5938 - accuracy: 0.7940 - val_loss: 0.5617 - val_accuracy: 0.8058\n",
            "Epoch 45/100\n",
            "1563/1563 [==============================] - 12s 7ms/step - loss: 0.5888 - accuracy: 0.7946 - val_loss: 0.6406 - val_accuracy: 0.7848\n",
            "Epoch 46/100\n",
            "1563/1563 [==============================] - 11s 7ms/step - loss: 0.5853 - accuracy: 0.7961 - val_loss: 0.5809 - val_accuracy: 0.8035\n",
            "Epoch 47/100\n",
            "1563/1563 [==============================] - 11s 7ms/step - loss: 0.5878 - accuracy: 0.7949 - val_loss: 0.5642 - val_accuracy: 0.8060\n",
            "Epoch 48/100\n",
            "1563/1563 [==============================] - 11s 7ms/step - loss: 0.5875 - accuracy: 0.7964 - val_loss: 0.5951 - val_accuracy: 0.7939\n",
            "Epoch 49/100\n",
            "1563/1563 [==============================] - 12s 7ms/step - loss: 0.5838 - accuracy: 0.7973 - val_loss: 0.6016 - val_accuracy: 0.7954\n",
            "Epoch 50/100\n",
            "1563/1563 [==============================] - 11s 7ms/step - loss: 0.5842 - accuracy: 0.7975 - val_loss: 0.6181 - val_accuracy: 0.7879\n",
            "Epoch 51/100\n",
            "1563/1563 [==============================] - 12s 7ms/step - loss: 0.5815 - accuracy: 0.7979 - val_loss: 0.5714 - val_accuracy: 0.8076\n",
            "Epoch 52/100\n",
            "1563/1563 [==============================] - 11s 7ms/step - loss: 0.5791 - accuracy: 0.7986 - val_loss: 0.6274 - val_accuracy: 0.7861\n",
            "Epoch 53/100\n",
            "1563/1563 [==============================] - 11s 7ms/step - loss: 0.5810 - accuracy: 0.7984 - val_loss: 0.5960 - val_accuracy: 0.7943\n",
            "Epoch 54/100\n",
            "1563/1563 [==============================] - 11s 7ms/step - loss: 0.5781 - accuracy: 0.7982 - val_loss: 0.5668 - val_accuracy: 0.8013\n",
            "Epoch 55/100\n",
            "1563/1563 [==============================] - 12s 7ms/step - loss: 0.5714 - accuracy: 0.8005 - val_loss: 0.5504 - val_accuracy: 0.8067\n",
            "Epoch 56/100\n",
            "1563/1563 [==============================] - 11s 7ms/step - loss: 0.5704 - accuracy: 0.8013 - val_loss: 0.5444 - val_accuracy: 0.8133\n",
            "Epoch 57/100\n",
            "1563/1563 [==============================] - 11s 7ms/step - loss: 0.5738 - accuracy: 0.8009 - val_loss: 0.5679 - val_accuracy: 0.8072\n",
            "Epoch 58/100\n",
            "1563/1563 [==============================] - 11s 7ms/step - loss: 0.5710 - accuracy: 0.8013 - val_loss: 0.5520 - val_accuracy: 0.8100\n",
            "Epoch 59/100\n",
            "1563/1563 [==============================] - 11s 7ms/step - loss: 0.5683 - accuracy: 0.8026 - val_loss: 0.5812 - val_accuracy: 0.8005\n",
            "Epoch 60/100\n",
            "1563/1563 [==============================] - 11s 7ms/step - loss: 0.5704 - accuracy: 0.8016 - val_loss: 0.5867 - val_accuracy: 0.8015\n",
            "Epoch 61/100\n",
            "1563/1563 [==============================] - 11s 7ms/step - loss: 0.5696 - accuracy: 0.8023 - val_loss: 0.5432 - val_accuracy: 0.8094\n",
            "Epoch 62/100\n",
            "1563/1563 [==============================] - 12s 8ms/step - loss: 0.5639 - accuracy: 0.8050 - val_loss: 0.5663 - val_accuracy: 0.8043\n",
            "Epoch 63/100\n",
            "1563/1563 [==============================] - 12s 8ms/step - loss: 0.5591 - accuracy: 0.8032 - val_loss: 0.7086 - val_accuracy: 0.7624\n",
            "Epoch 64/100\n",
            "1563/1563 [==============================] - 11s 7ms/step - loss: 0.5637 - accuracy: 0.8054 - val_loss: 0.5654 - val_accuracy: 0.8069\n",
            "Epoch 65/100\n",
            "1563/1563 [==============================] - 11s 7ms/step - loss: 0.5660 - accuracy: 0.8030 - val_loss: 0.5618 - val_accuracy: 0.8079\n",
            "Epoch 66/100\n",
            "1563/1563 [==============================] - 11s 7ms/step - loss: 0.5598 - accuracy: 0.8055 - val_loss: 0.5615 - val_accuracy: 0.8094\n",
            "Epoch 67/100\n",
            "1563/1563 [==============================] - 12s 7ms/step - loss: 0.5535 - accuracy: 0.8075 - val_loss: 0.5284 - val_accuracy: 0.8188\n",
            "Epoch 68/100\n",
            "1563/1563 [==============================] - 11s 7ms/step - loss: 0.5635 - accuracy: 0.8047 - val_loss: 0.5466 - val_accuracy: 0.8108\n",
            "Epoch 69/100\n",
            "1563/1563 [==============================] - 12s 8ms/step - loss: 0.5562 - accuracy: 0.8051 - val_loss: 0.5423 - val_accuracy: 0.8149\n",
            "Epoch 70/100\n",
            "1563/1563 [==============================] - 12s 7ms/step - loss: 0.5552 - accuracy: 0.8090 - val_loss: 0.6799 - val_accuracy: 0.7733\n",
            "Epoch 71/100\n",
            "1563/1563 [==============================] - 11s 7ms/step - loss: 0.5511 - accuracy: 0.8100 - val_loss: 0.5591 - val_accuracy: 0.8059\n",
            "Epoch 72/100\n",
            "1563/1563 [==============================] - 12s 7ms/step - loss: 0.5582 - accuracy: 0.8055 - val_loss: 0.6127 - val_accuracy: 0.7922\n",
            "Epoch 73/100\n",
            "1563/1563 [==============================] - 12s 7ms/step - loss: 0.5547 - accuracy: 0.8067 - val_loss: 0.5305 - val_accuracy: 0.8172\n",
            "Epoch 74/100\n",
            "1563/1563 [==============================] - 12s 8ms/step - loss: 0.5577 - accuracy: 0.8052 - val_loss: 0.6010 - val_accuracy: 0.7972\n",
            "Epoch 75/100\n",
            "1563/1563 [==============================] - 12s 8ms/step - loss: 0.5477 - accuracy: 0.8097 - val_loss: 0.5459 - val_accuracy: 0.8111\n",
            "Epoch 76/100\n",
            "1563/1563 [==============================] - 11s 7ms/step - loss: 0.5543 - accuracy: 0.8076 - val_loss: 0.5742 - val_accuracy: 0.8021\n",
            "Epoch 77/100\n",
            "1563/1563 [==============================] - 11s 7ms/step - loss: 0.5551 - accuracy: 0.8058 - val_loss: 0.6004 - val_accuracy: 0.7973\n",
            "Epoch 78/100\n",
            "1563/1563 [==============================] - 11s 7ms/step - loss: 0.5487 - accuracy: 0.8084 - val_loss: 0.6880 - val_accuracy: 0.7710\n",
            "Epoch 79/100\n",
            "1563/1563 [==============================] - 12s 7ms/step - loss: 0.5469 - accuracy: 0.8095 - val_loss: 0.5181 - val_accuracy: 0.8210\n",
            "Epoch 80/100\n",
            "1563/1563 [==============================] - 11s 7ms/step - loss: 0.5480 - accuracy: 0.8103 - val_loss: 0.5345 - val_accuracy: 0.8165\n",
            "Epoch 81/100\n",
            "1563/1563 [==============================] - 12s 8ms/step - loss: 0.5388 - accuracy: 0.8107 - val_loss: 0.6312 - val_accuracy: 0.7875\n",
            "Epoch 82/100\n",
            "1563/1563 [==============================] - 11s 7ms/step - loss: 0.5373 - accuracy: 0.8137 - val_loss: 0.5202 - val_accuracy: 0.8198\n",
            "Epoch 83/100\n",
            "1563/1563 [==============================] - 11s 7ms/step - loss: 0.5400 - accuracy: 0.8115 - val_loss: 0.5349 - val_accuracy: 0.8180\n",
            "Epoch 84/100\n",
            "1563/1563 [==============================] - 11s 7ms/step - loss: 0.5348 - accuracy: 0.8123 - val_loss: 0.5580 - val_accuracy: 0.8084\n",
            "Epoch 85/100\n",
            "1563/1563 [==============================] - 11s 7ms/step - loss: 0.5473 - accuracy: 0.8099 - val_loss: 0.5796 - val_accuracy: 0.8023\n",
            "Epoch 86/100\n",
            "1563/1563 [==============================] - 11s 7ms/step - loss: 0.5362 - accuracy: 0.8130 - val_loss: 0.5353 - val_accuracy: 0.8159\n",
            "Epoch 87/100\n",
            "1563/1563 [==============================] - 11s 7ms/step - loss: 0.5420 - accuracy: 0.8117 - val_loss: 0.5486 - val_accuracy: 0.8141\n",
            "Epoch 88/100\n",
            "1563/1563 [==============================] - 12s 7ms/step - loss: 0.5367 - accuracy: 0.8135 - val_loss: 0.5318 - val_accuracy: 0.8207\n",
            "Epoch 89/100\n",
            "1563/1563 [==============================] - 12s 7ms/step - loss: 0.5388 - accuracy: 0.8119 - val_loss: 0.5424 - val_accuracy: 0.8127\n",
            "Epoch 90/100\n",
            "1563/1563 [==============================] - 11s 7ms/step - loss: 0.5351 - accuracy: 0.8128 - val_loss: 0.6027 - val_accuracy: 0.7966\n",
            "Epoch 91/100\n",
            "1563/1563 [==============================] - 11s 7ms/step - loss: 0.5386 - accuracy: 0.8124 - val_loss: 0.5439 - val_accuracy: 0.8134\n",
            "Epoch 92/100\n",
            "1563/1563 [==============================] - 11s 7ms/step - loss: 0.5343 - accuracy: 0.8140 - val_loss: 0.6104 - val_accuracy: 0.7970\n",
            "Epoch 93/100\n",
            "1563/1563 [==============================] - 12s 8ms/step - loss: 0.5311 - accuracy: 0.8152 - val_loss: 0.7376 - val_accuracy: 0.7605\n",
            "Epoch 94/100\n",
            "1563/1563 [==============================] - 11s 7ms/step - loss: 0.5399 - accuracy: 0.8109 - val_loss: 0.5422 - val_accuracy: 0.8124\n",
            "Epoch 95/100\n",
            "1563/1563 [==============================] - 12s 7ms/step - loss: 0.5275 - accuracy: 0.8152 - val_loss: 0.6217 - val_accuracy: 0.7919\n",
            "Epoch 96/100\n",
            "1563/1563 [==============================] - 10s 7ms/step - loss: 0.5296 - accuracy: 0.8138 - val_loss: 0.5432 - val_accuracy: 0.8114\n",
            "Epoch 97/100\n",
            "1563/1563 [==============================] - 11s 7ms/step - loss: 0.5276 - accuracy: 0.8152 - val_loss: 0.5563 - val_accuracy: 0.8092\n",
            "Epoch 98/100\n",
            "1563/1563 [==============================] - 15s 10ms/step - loss: 0.5287 - accuracy: 0.8149 - val_loss: 0.6569 - val_accuracy: 0.7803\n",
            "Epoch 99/100\n",
            "1563/1563 [==============================] - 14s 9ms/step - loss: 0.5351 - accuracy: 0.8143 - val_loss: 0.5392 - val_accuracy: 0.8117\n",
            "Epoch 100/100\n",
            "1563/1563 [==============================] - 12s 8ms/step - loss: 0.5294 - accuracy: 0.8161 - val_loss: 0.5886 - val_accuracy: 0.8009\n"
          ]
        }
      ]
    },
    {
      "cell_type": "markdown",
      "source": [
        "7. Tabel akurasi hasil testing"
      ],
      "metadata": {
        "id": "wCoogVeU8Bz-"
      }
    },
    {
      "cell_type": "code",
      "source": [
        "plt.plot(history.history['accuracy'], label='accuracy')\n",
        "plt.plot(history.history['val_accuracy'], label = 'val_accuracy')\n",
        "plt.xlabel('Epoch')\n",
        "plt.ylabel('Accuracy')\n",
        "plt.ylim([0.5, 1])\n",
        "plt.legend(loc='lower right')\n",
        "\n",
        "test_loss, test_acc = model.evaluate(test_images, test_labels, verbose=2)"
      ],
      "metadata": {
        "colab": {
          "base_uri": "https://localhost:8080/",
          "height": 472
        },
        "id": "sYQlJCMgcTXS",
        "outputId": "88dc6f14-6c8e-4676-9cc5-60985117dfa4"
      },
      "execution_count": null,
      "outputs": [
        {
          "output_type": "stream",
          "name": "stdout",
          "text": [
            "313/313 - 1s - loss: 0.5886 - accuracy: 0.8009 - 753ms/epoch - 2ms/step\n"
          ]
        },
        {
          "output_type": "display_data",
          "data": {
            "text/plain": [
              "<Figure size 640x480 with 1 Axes>"
            ],
            "image/png": "[encoded data removed]"
          },
          "metadata": {}
        }
      ]
    },
    {
      "cell_type": "markdown",
      "source": [
        "8. Akurasi yang didapat adalah 80%"
      ],
      "metadata": {
        "id": "1Uahi75_8I1R"
      }
    },
    {
      "cell_type": "code",
      "source": [
        "print(test_acc)"
      ],
      "metadata": {
        "colab": {
          "base_uri": "https://localhost:8080/"
        },
        "id": "G45l_Qn-g7MU",
        "outputId": "f3de0564-546c-4f9b-8e78-eca0e1782ca6"
      },
      "execution_count": null,
      "outputs": [
        {
          "output_type": "stream",
          "name": "stdout",
          "text": [
            "0.8008999824523926\n"
          ]
        }
      ]
    },
    {
      "cell_type": "markdown",
      "source": [
        "**<h1>TUGAS 2<h1>**"
      ],
      "metadata": {
        "id": "h8lB-bve3OuD"
      }
    },
    {
      "cell_type": "markdown",
      "source": [
        "1. Load dataset cifar10"
      ],
      "metadata": {
        "id": "NdQtcbHoIYEg"
      }
    },
    {
      "cell_type": "code",
      "source": [
        "(train_images, train_labels), (test_images, test_labels) = datasets.mnist.load_data()"
      ],
      "metadata": {
        "colab": {
          "base_uri": "https://localhost:8080/"
        },
        "id": "eUXlAc2w3VlZ",
        "outputId": "002d9a37-5e4c-4380-f488-728f21466165"
      },
      "execution_count": null,
      "outputs": [
        {
          "output_type": "stream",
          "name": "stdout",
          "text": [
            "Downloading data from https://storage.googleapis.com/tensorflow/tf-keras-datasets/mnist.npz\n",
            "11490434/11490434 [==============================] - 1s 0us/step\n"
          ]
        }
      ]
    },
    {
      "cell_type": "markdown",
      "source": [
        "2. Normalisasi pixel menjadi 1 dan 0"
      ],
      "metadata": {
        "id": "ygCCiT0EIZSR"
      }
    },
    {
      "cell_type": "code",
      "source": [
        "train_images, test_images = train_images / 255.0, test_images / 255.0"
      ],
      "metadata": {
        "id": "OhJ-Jw6m3XTP"
      },
      "execution_count": null,
      "outputs": []
    },
    {
      "cell_type": "markdown",
      "source": [
        "3. Membuat model CNN dan menambahkan layers pada model yang telah dibuat"
      ],
      "metadata": {
        "id": "FxP6yPpkIZ11"
      }
    },
    {
      "cell_type": "code",
      "source": [
        "model = models.Sequential()\n",
        "model.add(layers.Conv2D(32, (3, 3), activation='relu', input_shape=(28, 28, 1)))\n",
        "model.add(layers.MaxPooling2D((2, 2)))\n",
        "model.add(layers.Conv2D(64, (3, 3), activation='relu'))\n",
        "model.add(layers.MaxPooling2D((2, 2)))\n",
        "model.add(layers.Conv2D(64, (3, 3), activation='relu'))"
      ],
      "metadata": {
        "id": "oAVddsUT3hhN"
      },
      "execution_count": null,
      "outputs": []
    },
    {
      "cell_type": "markdown",
      "source": [
        "4. Menambahkan layer fully connected pada model"
      ],
      "metadata": {
        "id": "FxquF0QLIaLL"
      }
    },
    {
      "cell_type": "code",
      "source": [
        "model.add(layers.Flatten())\n",
        "model.add(layers.Dense(64, activation='relu'))\n",
        "model.add(layers.Dense(10, activation='softmax'))"
      ],
      "metadata": {
        "id": "Lq05I3Ao3iQZ"
      },
      "execution_count": null,
      "outputs": []
    },
    {
      "cell_type": "markdown",
      "source": [
        "5. Mengcompile model CNN"
      ],
      "metadata": {
        "id": "Mi1-D1TXIaj1"
      }
    },
    {
      "cell_type": "code",
      "source": [
        "model.compile(optimizer='adam', loss='sparse_categorical_crossentropy', metrics=['accuracy'])"
      ],
      "metadata": {
        "id": "U39rkdi93kYs"
      },
      "execution_count": null,
      "outputs": []
    },
    {
      "cell_type": "markdown",
      "source": [
        "6. Memasukkan data train ke dalam model"
      ],
      "metadata": {
        "id": "sXpD9aajIa9u"
      }
    },
    {
      "cell_type": "code",
      "source": [
        "history = model.fit(train_images, train_labels, epochs=5, validation_data=(test_images, test_labels))"
      ],
      "metadata": {
        "colab": {
          "base_uri": "https://localhost:8080/"
        },
        "id": "_w7QU_Oi3oBH",
        "outputId": "4b844418-4999-480c-838d-db8c8b36cf34"
      },
      "execution_count": null,
      "outputs": [
        {
          "output_type": "stream",
          "name": "stdout",
          "text": [
            "Epoch 1/5\n",
            "1875/1875 [==============================] - 70s 37ms/step - loss: 0.1448 - accuracy: 0.9550 - val_loss: 0.0611 - val_accuracy: 0.9800\n",
            "Epoch 2/5\n",
            "1875/1875 [==============================] - 66s 35ms/step - loss: 0.0488 - accuracy: 0.9846 - val_loss: 0.0325 - val_accuracy: 0.9890\n",
            "Epoch 3/5\n",
            "1875/1875 [==============================] - 63s 34ms/step - loss: 0.0336 - accuracy: 0.9895 - val_loss: 0.0352 - val_accuracy: 0.9882\n",
            "Epoch 4/5\n",
            "1875/1875 [==============================] - 65s 35ms/step - loss: 0.0264 - accuracy: 0.9919 - val_loss: 0.0333 - val_accuracy: 0.9889\n",
            "Epoch 5/5\n",
            "1875/1875 [==============================] - 64s 34ms/step - loss: 0.0195 - accuracy: 0.9936 - val_loss: 0.0326 - val_accuracy: 0.9900\n"
          ]
        }
      ]
    },
    {
      "cell_type": "markdown",
      "source": [
        "7. Tabel akurasi hasil testing"
      ],
      "metadata": {
        "id": "_M8yFDFSIbbl"
      }
    },
    {
      "cell_type": "code",
      "source": [
        "plt.plot(history.history['accuracy'], label='accuracy')\n",
        "plt.plot(history.history['val_accuracy'], label='val_accuracy')\n",
        "plt.xlabel('Epoch')\n",
        "plt.ylabel('Accuracy')\n",
        "plt.ylim([0, 1])\n",
        "plt.legend(loc='lower right')\n",
        "plt.show()\n",
        "\n",
        "test_loss, test_acc = model.evaluate(test_images,  test_labels, verbose=2)"
      ],
      "metadata": {
        "colab": {
          "base_uri": "https://localhost:8080/",
          "height": 472
        },
        "id": "PkRTtbQT5IrF",
        "outputId": "362d4f9c-0a48-46e5-aaf5-3f9ea023675c"
      },
      "execution_count": null,
      "outputs": [
        {
          "output_type": "display_data",
          "data": {
            "text/plain": [
              "<Figure size 640x480 with 1 Axes>"
            ],
            "image/png": "[encoded data removed]"
          },
          "metadata": {}
        },
        {
          "output_type": "stream",
          "name": "stdout",
          "text": [
            "313/313 - 3s - loss: 0.0326 - accuracy: 0.9900 - 3s/epoch - 11ms/step\n"
          ]
        }
      ]
    },
    {
      "cell_type": "markdown",
      "source": [
        "8. Akurasi testing menunjukan 99%"
      ],
      "metadata": {
        "id": "Q1i4zOmqIcEN"
      }
    },
    {
      "cell_type": "code",
      "source": [
        "print(f\"Test accuracy: {test_acc}\")"
      ],
      "metadata": {
        "colab": {
          "base_uri": "https://localhost:8080/"
        },
        "id": "wBzVbbeB5OwS",
        "outputId": "241a014e-612a-466c-d8a8-508431315056"
      },
      "execution_count": null,
      "outputs": [
        {
          "output_type": "stream",
          "name": "stdout",
          "text": [
            "Test accuracy: 0.9900000095367432\n"
          ]
        }
      ]
    }
  ]
}